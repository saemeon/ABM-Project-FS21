{
 "cells": [
  {
   "cell_type": "code",
   "execution_count": 1,
   "metadata": {
    "ExecuteTime": {
     "end_time": "2021-06-17T14:49:09.614492Z",
     "start_time": "2021-06-17T14:49:05.067166Z"
    }
   },
   "outputs": [],
   "source": [
    "from scipy.stats import norm\n",
    "import matplotlib.pyplot as plt\n",
    "import numpy as np\n",
    "import networkx as nx\n",
    "from tqdm import tqdm\n",
    "from ipywidgets import *\n",
    "import pickle\n",
    "from Classes import *\n",
    "from Functions import *\n",
    "\n",
    "\n",
    "def save_obj(obj, name ):\n",
    "    with open('obj/'+ name + '.pkl', 'wb') as f:\n",
    "        pickle.dump(obj, f, pickle.HIGHEST_PROTOCOL)   \n",
    "def load_obj(name):\n",
    "    with open('obj/' + name + '.pkl', 'rb') as f:\n",
    "        return pickle.load(f)"
   ]
  },
  {
   "cell_type": "code",
   "execution_count": 2,
   "metadata": {
    "ExecuteTime": {
     "end_time": "2021-06-17T14:49:09.671037Z",
     "start_time": "2021-06-17T14:49:09.619948Z"
    }
   },
   "outputs": [],
   "source": [
    "n = 50\n",
    "m = 1\n",
    "s = 1\n",
    "M  = np.array(n*[np.linspace(0 ,  m, n)])\n",
    "S = np.array(n*[np.linspace(s,0.001, n)]).T"
   ]
  },
  {
   "cell_type": "code",
   "execution_count": 3,
   "metadata": {
    "ExecuteTime": {
     "end_time": "2021-06-17T14:49:18.726010Z",
     "start_time": "2021-06-17T14:49:18.580185Z"
    }
   },
   "outputs": [],
   "source": [
    "ResultsSim = load_obj(\"ResultsSim2\")"
   ]
  },
  {
   "cell_type": "code",
   "execution_count": 6,
   "metadata": {
    "ExecuteTime": {
     "end_time": "2021-06-17T14:49:39.544185Z",
     "start_time": "2021-06-17T14:49:39.537668Z"
    }
   },
   "outputs": [],
   "source": [
    "shifts = [1,1.25,1.5,1.75,2,2.5,3,3.5,4,5,8,10]"
   ]
  },
  {
   "cell_type": "code",
   "execution_count": null,
   "metadata": {
    "ExecuteTime": {
     "start_time": "2021-06-17T14:49:44.136Z"
    },
    "scrolled": true
   },
   "outputs": [
    {
     "name": "stderr",
     "output_type": "stream",
     "text": [
      "\r",
      "  0%|                                                                                           | 0/12 [00:00<?, ?it/s]"
     ]
    },
    {
     "name": "stdout",
     "output_type": "stream",
     "text": [
      "1 out\n",
      "1 red\n",
      "1.25 out\n",
      "1.25 red\n",
      "1.5 out\n",
      "1.5 red\n"
     ]
    },
    {
     "name": "stderr",
     "output_type": "stream",
     "text": [
      "\n",
      "  0%|                                                                                           | 0/50 [00:00<?, ?it/s]"
     ]
    }
   ],
   "source": [
    "#Simulation Mean field\n",
    "for Mshift in tqdm(shifts): \n",
    "    try:\n",
    "        ResultsSim[Mshift]\n",
    "    except:\n",
    "        ResultsSim[Mshift]={}\n",
    "    \n",
    "    for typ in [\"out\",\"red\"]:\n",
    "        print(Mshift,typ)\n",
    "        def ABM_net(par):\n",
    "            abm = ABM_MF(50000, par, phi2 = typ)\n",
    "            abm.step(50)\n",
    "            return abm.X\n",
    "        try:\n",
    "            ResultsSim[Mshift][typ]\n",
    "        except:\n",
    "            M0 = M.copy()+Mshift\n",
    "            S0 = S.copy()\n",
    "\n",
    "            results =np.array([np.array(list(map(ABM_net,par))) for par in tqdm(np.dstack((M,S,M0,S0)), leave = False)])\n",
    "            ResultsSim[Mshift][typ]=results\n",
    "            save_obj(ResultsSim,\"ResultsSim2\")"
   ]
  }
 ],
 "metadata": {
  "kernelspec": {
   "display_name": "Python 3",
   "language": "python",
   "name": "python3"
  },
  "language_info": {
   "codemirror_mode": {
    "name": "ipython",
    "version": 3
   },
   "file_extension": ".py",
   "mimetype": "text/x-python",
   "name": "python",
   "nbconvert_exporter": "python",
   "pygments_lexer": "ipython3",
   "version": "3.7.3"
  },
  "toc": {
   "base_numbering": 1,
   "nav_menu": {},
   "number_sections": true,
   "sideBar": true,
   "skip_h1_title": false,
   "title_cell": "Table of Contents",
   "title_sidebar": "Contents",
   "toc_cell": false,
   "toc_position": {
    "height": "calc(100% - 180px)",
    "left": "10px",
    "top": "150px",
    "width": "459.261px"
   },
   "toc_section_display": true,
   "toc_window_display": false
  }
 },
 "nbformat": 4,
 "nbformat_minor": 2
}
