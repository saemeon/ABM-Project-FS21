{
 "cells": [
  {
   "cell_type": "code",
   "execution_count": 1,
   "metadata": {
    "ExecuteTime": {
     "end_time": "2021-07-01T18:07:46.459201Z",
     "start_time": "2021-07-01T18:07:43.328534Z"
    }
   },
   "outputs": [],
   "source": [
    "from scipy.stats import norm, multivariate_normal\n",
    "import matplotlib.pyplot as plt\n",
    "from mpl_toolkits.mplot3d import Axes3D\n",
    "import numpy as np\n",
    "import networkx as nx\n",
    "from tqdm import tqdm\n",
    "from itertools import repeat\n",
    "from ipywidgets import *\n",
    "import pickle\n",
    "from Classes import *\n",
    "from Functions import *\n",
    "\n",
    "\n",
    "def save_obj(obj, name ):\n",
    "    with open('obj/'+ name + '.pkl', 'wb') as f:\n",
    "        pickle.dump(obj, f, pickle.HIGHEST_PROTOCOL)   \n",
    "def load_obj(name):\n",
    "    with open('obj/' + name + '.pkl', 'rb') as f:\n",
    "        return pickle.load(f)"
   ]
  },
  {
   "cell_type": "code",
   "execution_count": 2,
   "metadata": {
    "ExecuteTime": {
     "end_time": "2021-07-01T13:01:12.229467Z",
     "start_time": "2021-07-01T13:01:12.210124Z"
    }
   },
   "outputs": [],
   "source": [
    "n = 50\n",
    "m = 1\n",
    "s = 1\n",
    "M  = np.array(n*[np.linspace(0 ,  m, n)])\n",
    "S = np.array(n*[np.linspace(s,0.001, n)]).T"
   ]
  },
  {
   "cell_type": "code",
   "execution_count": 3,
   "metadata": {
    "ExecuteTime": {
     "end_time": "2021-07-01T13:01:12.575179Z",
     "start_time": "2021-07-01T13:01:12.240876Z"
    }
   },
   "outputs": [],
   "source": [
    "shifts = [0,0.05,0.1,0.15,0.2,0.25,0.3,0.35,0.4,0.45,0.5,0.55,0.6,0.65,0.7,0.75,0.8,0.85,0.9,1,1.25,1.5,1.75,2,2.5,3,3.5,4,5,8,10]"
   ]
  },
  {
   "cell_type": "code",
   "execution_count": 12,
   "metadata": {
    "ExecuteTime": {
     "end_time": "2021-07-01T13:08:05.750735Z",
     "start_time": "2021-07-01T13:08:05.743789Z"
    }
   },
   "outputs": [],
   "source": [
    "shifts = [-0.1,-0.2,-0.3,-0.4,-0.5,-0.6,-0.7]"
   ]
  },
  {
   "cell_type": "markdown",
   "metadata": {},
   "source": [
    "# Numerical"
   ]
  },
  {
   "cell_type": "code",
   "execution_count": 29,
   "metadata": {
    "ExecuteTime": {
     "end_time": "2021-06-23T23:14:56.015116Z",
     "start_time": "2021-06-23T23:14:54.382283Z"
    }
   },
   "outputs": [],
   "source": [
    "ResultsSim = load_obj(\"ResultsSim\")\n",
    "temp = load_obj(\"ResultsSim1\")\n",
    "ResultsSim.update(temp)\n",
    "temp = load_obj(\"ResultsSim2\")\n",
    "ResultsSim.update(temp)"
   ]
  },
  {
   "cell_type": "code",
   "execution_count": 8,
   "metadata": {
    "ExecuteTime": {
     "end_time": "2021-07-01T13:06:14.869955Z",
     "start_time": "2021-07-01T13:06:11.820549Z"
    }
   },
   "outputs": [],
   "source": [
    "ResultsAna = load_obj(\"ResultsAna\")\n",
    "#ResultsKarate = load_obj(\"ResultsKarate\")"
   ]
  },
  {
   "cell_type": "code",
   "execution_count": 60,
   "metadata": {
    "ExecuteTime": {
     "end_time": "2021-06-24T12:16:37.252610Z",
     "start_time": "2021-06-24T12:16:36.469428Z"
    }
   },
   "outputs": [],
   "source": [
    "#save_obj(ResultsSim,\"ResultsSim\")\n",
    "#save_obj(ResultsAna,\"ResultsAna\")"
   ]
  },
  {
   "cell_type": "code",
   "execution_count": 9,
   "metadata": {
    "ExecuteTime": {
     "end_time": "2021-07-01T13:06:18.710974Z",
     "start_time": "2021-07-01T13:06:18.686669Z"
    },
    "scrolled": true
   },
   "outputs": [],
   "source": [
    "#Runner function that runs simulations for all parameter combinations\n",
    "def run(Simulator,Results,name,save=False):\n",
    "    \"\"\"\n",
    "    Simulator = Function that runs Simulation for m,s,m0,s0,typ combination\n",
    "    name = name to store results\n",
    "    Results = results dict\n",
    "    save = Bool if results should be saved under name\n",
    "    \"\"\"\n",
    "    for Mshift in tqdm(shifts): \n",
    "        try:\n",
    "            Results[Mshift]\n",
    "        except:\n",
    "            Results[Mshift]={}\n",
    "\n",
    "        for typ in [\"out\",\"red\"]:\n",
    "            print(Mshift,typ)\n",
    "            try:\n",
    "                Results[Mshift][typ]\n",
    "            except:\n",
    "                M0 = M.copy()+Mshift\n",
    "                S0 = S.copy()\n",
    "                results =[list(map(Simulator,par, repeat(typ))) for par in tqdm(np.dstack((M,S,M0,S0)), position=0, leave=True)]\n",
    "                Results[Mshift][typ]=results\n",
    "                if save:\n",
    "                    save_obj(Results,name)"
   ]
  },
  {
   "cell_type": "code",
   "execution_count": 10,
   "metadata": {
    "ExecuteTime": {
     "end_time": "2021-07-01T13:06:51.198182Z",
     "start_time": "2021-07-01T13:06:51.163957Z"
    }
   },
   "outputs": [],
   "source": [
    "def ABM_MFana(par,typ):\n",
    "    m,s,m0,s0 = par\n",
    "    num = 500\n",
    "            \n",
    "    theta1 = np.linspace(m-3.5*s,m+3.5*s,num)\n",
    "    theta2 = np.linspace(m0-3.5*s0,m0+3.5*s0,num)\n",
    "    theta1, theta2 = np.meshgrid(theta1,theta2)\n",
    "    \n",
    "    pos = np.empty(theta1.shape + (2,))\n",
    "    pos[:, :, 0] = theta1; pos[:, :, 1] = theta2\n",
    "    rv = multivariate_normal([m, m0], [[s**2, 0], [0, s0**2]])        \n",
    "    P= rv.pdf(pos)\n",
    "    \n",
    "    State = np.zeros(theta1.shape)\n",
    "    X_=[]\n",
    "    Xt_1 =-1\n",
    "    Xt_2 =-1\n",
    "    Xt_3 =-1\n",
    "    Xt   = double_Integral(theta1, theta2, State*P)\n",
    "    for i in range(100):\n",
    "        X_.append(Xt)\n",
    "        if ((Xt==Xt_1) and (Xt_1==Xt_2) and (i%2==0)) or ((Xt==Xt_2)and (Xt_1==Xt_3)and (i%2==0)):\n",
    "            break\n",
    "        if typ == \"out\":\n",
    "            State = (1-State)*(theta1 < Xt) + State*(theta2 > (1-Xt))\n",
    "        if typ == \"red\":\n",
    "            State = (1-State)*(theta1 < Xt) + State*(theta2 > ((1-Xt)/Xt))\n",
    "        Xt_3 = Xt_2\n",
    "        Xt_2 = Xt_1\n",
    "        Xt_1 = Xt\n",
    "        Xt = double_Integral(theta1, theta2, State*P)\n",
    "    return X_"
   ]
  },
  {
   "cell_type": "code",
   "execution_count": 17,
   "metadata": {
    "ExecuteTime": {
     "end_time": "2021-06-25T18:17:39.500281Z",
     "start_time": "2021-06-25T13:08:28.700142Z"
    },
    "scrolled": true
   },
   "outputs": [
    {
     "name": "stderr",
     "output_type": "stream",
     "text": [
      "\n",
      "  0%|                                                                                           | 0/31 [00:00<?, ?it/s]"
     ]
    },
    {
     "name": "stdout",
     "output_type": "stream",
     "text": [
      "0 out\n"
     ]
    },
    {
     "name": "stderr",
     "output_type": "stream",
     "text": [
      "100%|██████████████████████████████████████████████████████████████████████████████████| 50/50 [08:43<00:00,  5.25s/it]\n"
     ]
    },
    {
     "name": "stdout",
     "output_type": "stream",
     "text": [
      "0 red\n"
     ]
    },
    {
     "name": "stderr",
     "output_type": "stream",
     "text": [
      "  0%|                                                                                           | 0/50 [00:00<?, ?it/s]C:\\ProgramData\\Anaconda3\\lib\\site-packages\\ipykernel_launcher.py:27: RuntimeWarning: divide by zero encountered in double_scalars\n",
      "100%|██████████████████████████████████████████████████████████████████████████████████| 50/50 [05:44<00:00,  4.94s/it]\n",
      "  3%|██▌                                                                             | 1/31 [14:27<7:13:52, 867.75s/it]"
     ]
    },
    {
     "name": "stdout",
     "output_type": "stream",
     "text": [
      "0.05 out\n"
     ]
    },
    {
     "name": "stderr",
     "output_type": "stream",
     "text": [
      "100%|██████████████████████████████████████████████████████████████████████████████████| 50/50 [07:30<00:00,  4.84s/it]\n"
     ]
    },
    {
     "name": "stdout",
     "output_type": "stream",
     "text": [
      "0.05 red\n"
     ]
    },
    {
     "name": "stderr",
     "output_type": "stream",
     "text": [
      "100%|██████████████████████████████████████████████████████████████████████████████████| 50/50 [06:02<00:00,  3.98s/it]\n",
      "  6%|█████▏                                                                          | 2/31 [28:02<6:51:39, 851.71s/it]"
     ]
    },
    {
     "name": "stdout",
     "output_type": "stream",
     "text": [
      "0.1 out\n"
     ]
    },
    {
     "name": "stderr",
     "output_type": "stream",
     "text": [
      "100%|██████████████████████████████████████████████████████████████████████████████████| 50/50 [06:19<00:00,  4.95s/it]\n"
     ]
    },
    {
     "name": "stdout",
     "output_type": "stream",
     "text": [
      "0.1 red\n"
     ]
    },
    {
     "name": "stderr",
     "output_type": "stream",
     "text": [
      "100%|██████████████████████████████████████████████████████████████████████████████████| 50/50 [04:34<00:00,  4.08s/it]\n",
      " 10%|███████▋                                                                        | 3/31 [38:57<6:10:02, 792.96s/it]"
     ]
    },
    {
     "name": "stdout",
     "output_type": "stream",
     "text": [
      "0.15 out\n"
     ]
    },
    {
     "name": "stderr",
     "output_type": "stream",
     "text": [
      "100%|██████████████████████████████████████████████████████████████████████████████████| 50/50 [04:39<00:00,  2.71s/it]\n"
     ]
    },
    {
     "name": "stdout",
     "output_type": "stream",
     "text": [
      "0.15 red\n"
     ]
    },
    {
     "name": "stderr",
     "output_type": "stream",
     "text": [
      "100%|██████████████████████████████████████████████████████████████████████████████████| 50/50 [02:45<00:00,  2.51s/it]\n",
      " 13%|██████████▎                                                                     | 4/31 [46:24<5:10:01, 688.93s/it]"
     ]
    },
    {
     "name": "stdout",
     "output_type": "stream",
     "text": [
      "0.2 out\n"
     ]
    },
    {
     "name": "stderr",
     "output_type": "stream",
     "text": [
      "100%|██████████████████████████████████████████████████████████████████████████████████| 50/50 [04:16<00:00,  3.24s/it]\n"
     ]
    },
    {
     "name": "stdout",
     "output_type": "stream",
     "text": [
      "0.2 red\n"
     ]
    },
    {
     "name": "stderr",
     "output_type": "stream",
     "text": [
      "100%|██████████████████████████████████████████████████████████████████████████████████| 50/50 [03:37<00:00,  3.64s/it]\n",
      " 16%|████████████▉                                                                   | 5/31 [54:19<4:30:45, 624.81s/it]"
     ]
    },
    {
     "name": "stdout",
     "output_type": "stream",
     "text": [
      "0.25 out\n"
     ]
    },
    {
     "name": "stderr",
     "output_type": "stream",
     "text": [
      "100%|██████████████████████████████████████████████████████████████████████████████████| 50/50 [05:52<00:00,  3.79s/it]\n"
     ]
    },
    {
     "name": "stdout",
     "output_type": "stream",
     "text": [
      "0.25 red\n"
     ]
    },
    {
     "name": "stderr",
     "output_type": "stream",
     "text": [
      "100%|██████████████████████████████████████████████████████████████████████████████████| 50/50 [03:48<00:00,  2.65s/it]\n",
      " 19%|███████████████                                                               | 6/31 [1:04:01<4:15:01, 612.07s/it]"
     ]
    },
    {
     "name": "stdout",
     "output_type": "stream",
     "text": [
      "0.3 out\n"
     ]
    },
    {
     "name": "stderr",
     "output_type": "stream",
     "text": [
      "100%|██████████████████████████████████████████████████████████████████████████████████| 50/50 [04:54<00:00,  4.00s/it]\n"
     ]
    },
    {
     "name": "stdout",
     "output_type": "stream",
     "text": [
      "0.3 red\n"
     ]
    },
    {
     "name": "stderr",
     "output_type": "stream",
     "text": [
      "100%|██████████████████████████████████████████████████████████████████████████████████| 50/50 [03:52<00:00,  4.03s/it]\n",
      " 23%|█████████████████▌                                                            | 7/31 [1:12:51<3:55:00, 587.52s/it]"
     ]
    },
    {
     "name": "stdout",
     "output_type": "stream",
     "text": [
      "0.35 out\n"
     ]
    },
    {
     "name": "stderr",
     "output_type": "stream",
     "text": [
      "100%|██████████████████████████████████████████████████████████████████████████████████| 50/50 [05:15<00:00,  2.69s/it]\n"
     ]
    },
    {
     "name": "stdout",
     "output_type": "stream",
     "text": [
      "0.35 red\n"
     ]
    },
    {
     "name": "stderr",
     "output_type": "stream",
     "text": [
      "100%|██████████████████████████████████████████████████████████████████████████████████| 50/50 [02:57<00:00,  2.62s/it]\n",
      " 26%|████████████████████▏                                                         | 8/31 [1:21:07<3:34:38, 559.95s/it]"
     ]
    },
    {
     "name": "stdout",
     "output_type": "stream",
     "text": [
      "0.4 out\n"
     ]
    },
    {
     "name": "stderr",
     "output_type": "stream",
     "text": [
      "100%|██████████████████████████████████████████████████████████████████████████████████| 50/50 [07:06<00:00,  4.01s/it]\n"
     ]
    },
    {
     "name": "stdout",
     "output_type": "stream",
     "text": [
      "0.4 red\n"
     ]
    },
    {
     "name": "stderr",
     "output_type": "stream",
     "text": [
      "100%|██████████████████████████████████████████████████████████████████████████████████| 50/50 [05:12<00:00,  4.07s/it]\n",
      " 29%|██████████████████████▋                                                       | 9/31 [1:33:31<3:45:36, 615.30s/it]"
     ]
    },
    {
     "name": "stdout",
     "output_type": "stream",
     "text": [
      "0.45 out\n"
     ]
    },
    {
     "name": "stderr",
     "output_type": "stream",
     "text": [
      "100%|██████████████████████████████████████████████████████████████████████████████████| 50/50 [07:22<00:00,  5.24s/it]\n"
     ]
    },
    {
     "name": "stdout",
     "output_type": "stream",
     "text": [
      "0.45 red\n"
     ]
    },
    {
     "name": "stderr",
     "output_type": "stream",
     "text": [
      "100%|██████████████████████████████████████████████████████████████████████████████████| 50/50 [05:26<00:00,  5.98s/it]\n",
      " 32%|████████████████████████▊                                                    | 10/31 [1:46:29<3:52:24, 664.03s/it]"
     ]
    },
    {
     "name": "stdout",
     "output_type": "stream",
     "text": [
      "0.5 out\n"
     ]
    },
    {
     "name": "stderr",
     "output_type": "stream",
     "text": [
      "100%|██████████████████████████████████████████████████████████████████████████████████| 50/50 [07:39<00:00,  4.73s/it]\n"
     ]
    },
    {
     "name": "stdout",
     "output_type": "stream",
     "text": [
      "0.5 red\n"
     ]
    },
    {
     "name": "stderr",
     "output_type": "stream",
     "text": [
      "100%|██████████████████████████████████████████████████████████████████████████████████| 50/50 [06:47<00:00,  3.43s/it]\n",
      " 35%|███████████████████████████▎                                                 | 11/31 [2:01:04<4:02:23, 727.16s/it]"
     ]
    },
    {
     "name": "stdout",
     "output_type": "stream",
     "text": [
      "0.55 out\n"
     ]
    },
    {
     "name": "stderr",
     "output_type": "stream",
     "text": [
      "100%|██████████████████████████████████████████████████████████████████████████████████| 50/50 [11:09<00:00,  5.53s/it]\n"
     ]
    },
    {
     "name": "stdout",
     "output_type": "stream",
     "text": [
      "0.55 red\n"
     ]
    },
    {
     "name": "stderr",
     "output_type": "stream",
     "text": [
      "100%|██████████████████████████████████████████████████████████████████████████████████| 50/50 [04:39<00:00,  3.59s/it]\n",
      " 39%|█████████████████████████████▊                                               | 12/31 [2:17:00<4:12:02, 795.93s/it]"
     ]
    },
    {
     "name": "stdout",
     "output_type": "stream",
     "text": [
      "0.6 out\n"
     ]
    },
    {
     "name": "stderr",
     "output_type": "stream",
     "text": [
      "100%|██████████████████████████████████████████████████████████████████████████████████| 50/50 [06:24<00:00,  3.34s/it]\n"
     ]
    },
    {
     "name": "stdout",
     "output_type": "stream",
     "text": [
      "0.6 red\n"
     ]
    },
    {
     "name": "stderr",
     "output_type": "stream",
     "text": [
      "100%|██████████████████████████████████████████████████████████████████████████████████| 50/50 [04:08<00:00,  4.79s/it]\n",
      " 42%|████████████████████████████████▎                                            | 13/31 [2:27:41<3:44:49, 749.41s/it]"
     ]
    },
    {
     "name": "stdout",
     "output_type": "stream",
     "text": [
      "0.65 out\n"
     ]
    },
    {
     "name": "stderr",
     "output_type": "stream",
     "text": [
      "100%|██████████████████████████████████████████████████████████████████████████████████| 50/50 [07:16<00:00,  4.34s/it]\n"
     ]
    },
    {
     "name": "stdout",
     "output_type": "stream",
     "text": [
      "0.65 red\n"
     ]
    },
    {
     "name": "stderr",
     "output_type": "stream",
     "text": [
      "100%|██████████████████████████████████████████████████████████████████████████████████| 50/50 [03:56<00:00,  2.69s/it]\n",
      " 45%|██████████████████████████████████▊                                          | 14/31 [2:39:01<3:26:28, 728.74s/it]"
     ]
    },
    {
     "name": "stdout",
     "output_type": "stream",
     "text": [
      "0.7 out\n"
     ]
    },
    {
     "name": "stderr",
     "output_type": "stream",
     "text": [
      "100%|██████████████████████████████████████████████████████████████████████████████████| 50/50 [04:18<00:00,  2.68s/it]\n"
     ]
    },
    {
     "name": "stdout",
     "output_type": "stream",
     "text": [
      "0.7 red\n"
     ]
    },
    {
     "name": "stderr",
     "output_type": "stream",
     "text": [
      "100%|██████████████████████████████████████████████████████████████████████████████████| 50/50 [03:08<00:00,  2.98s/it]\n",
      " 48%|█████████████████████████████████████▎                                       | 15/31 [2:46:34<2:52:15, 645.95s/it]"
     ]
    },
    {
     "name": "stdout",
     "output_type": "stream",
     "text": [
      "0.75 out\n"
     ]
    },
    {
     "name": "stderr",
     "output_type": "stream",
     "text": [
      "100%|██████████████████████████████████████████████████████████████████████████████████| 50/50 [04:24<00:00,  3.54s/it]\n"
     ]
    },
    {
     "name": "stdout",
     "output_type": "stream",
     "text": [
      "0.75 red\n"
     ]
    },
    {
     "name": "stderr",
     "output_type": "stream",
     "text": [
      "100%|██████████████████████████████████████████████████████████████████████████████████| 50/50 [04:29<00:00,  3.70s/it]\n",
      " 52%|███████████████████████████████████████▋                                     | 16/31 [2:55:37<2:33:44, 614.99s/it]"
     ]
    },
    {
     "name": "stdout",
     "output_type": "stream",
     "text": [
      "0.8 out\n"
     ]
    },
    {
     "name": "stderr",
     "output_type": "stream",
     "text": [
      "100%|██████████████████████████████████████████████████████████████████████████████████| 50/50 [06:08<00:00,  3.83s/it]\n"
     ]
    },
    {
     "name": "stdout",
     "output_type": "stream",
     "text": [
      "0.8 red\n"
     ]
    },
    {
     "name": "stderr",
     "output_type": "stream",
     "text": [
      "100%|██████████████████████████████████████████████████████████████████████████████████| 50/50 [03:18<00:00,  2.68s/it]\n",
      " 55%|██████████████████████████████████████████▏                                  | 17/31 [3:05:12<2:20:41, 602.94s/it]"
     ]
    },
    {
     "name": "stdout",
     "output_type": "stream",
     "text": [
      "0.85 out\n"
     ]
    },
    {
     "name": "stderr",
     "output_type": "stream",
     "text": [
      "100%|██████████████████████████████████████████████████████████████████████████████████| 50/50 [05:40<00:00,  4.23s/it]\n"
     ]
    },
    {
     "name": "stdout",
     "output_type": "stream",
     "text": [
      "0.85 red\n"
     ]
    },
    {
     "name": "stderr",
     "output_type": "stream",
     "text": [
      "100%|██████████████████████████████████████████████████████████████████████████████████| 50/50 [04:26<00:00,  3.77s/it]\n",
      " 58%|████████████████████████████████████████████▋                                | 18/31 [3:15:29<2:11:34, 607.30s/it]"
     ]
    },
    {
     "name": "stdout",
     "output_type": "stream",
     "text": [
      "0.9 out\n"
     ]
    },
    {
     "name": "stderr",
     "output_type": "stream",
     "text": [
      "100%|██████████████████████████████████████████████████████████████████████████████████| 50/50 [04:24<00:00,  2.64s/it]\n"
     ]
    },
    {
     "name": "stdout",
     "output_type": "stream",
     "text": [
      "0.9 red\n"
     ]
    },
    {
     "name": "stderr",
     "output_type": "stream",
     "text": [
      "100%|██████████████████████████████████████████████████████████████████████████████████| 50/50 [04:12<00:00,  4.37s/it]\n",
      " 61%|███████████████████████████████████████████████▏                             | 19/31 [3:24:16<1:56:36, 583.01s/it]"
     ]
    },
    {
     "name": "stdout",
     "output_type": "stream",
     "text": [
      "1 out\n"
     ]
    },
    {
     "name": "stderr",
     "output_type": "stream",
     "text": [
      "100%|██████████████████████████████████████████████████████████████████████████████████| 50/50 [05:48<00:00,  3.68s/it]\n"
     ]
    },
    {
     "name": "stdout",
     "output_type": "stream",
     "text": [
      "1 red\n"
     ]
    },
    {
     "name": "stderr",
     "output_type": "stream",
     "text": [
      "100%|██████████████████████████████████████████████████████████████████████████████████| 50/50 [04:37<00:00,  4.52s/it]\n",
      " 65%|█████████████████████████████████████████████████▋                           | 20/31 [3:34:53<1:49:51, 599.20s/it]"
     ]
    },
    {
     "name": "stdout",
     "output_type": "stream",
     "text": [
      "1.25 out\n"
     ]
    },
    {
     "name": "stderr",
     "output_type": "stream",
     "text": [
      "100%|██████████████████████████████████████████████████████████████████████████████████| 50/50 [05:33<00:00,  3.36s/it]\n"
     ]
    },
    {
     "name": "stdout",
     "output_type": "stream",
     "text": [
      "1.25 red\n"
     ]
    },
    {
     "name": "stderr",
     "output_type": "stream",
     "text": [
      "100%|██████████████████████████████████████████████████████████████████████████████████| 50/50 [03:22<00:00,  2.61s/it]\n",
      " 68%|████████████████████████████████████████████████████▏                        | 21/31 [3:43:57<1:37:07, 582.71s/it]"
     ]
    },
    {
     "name": "stdout",
     "output_type": "stream",
     "text": [
      "1.5 out\n"
     ]
    },
    {
     "name": "stderr",
     "output_type": "stream",
     "text": [
      "100%|██████████████████████████████████████████████████████████████████████████████████| 50/50 [03:57<00:00,  2.62s/it]\n"
     ]
    },
    {
     "name": "stdout",
     "output_type": "stream",
     "text": [
      "1.5 red\n"
     ]
    },
    {
     "name": "stderr",
     "output_type": "stream",
     "text": [
      "100%|██████████████████████████████████████████████████████████████████████████████████| 50/50 [03:38<00:00,  3.74s/it]\n",
      " 71%|██████████████████████████████████████████████████████▋                      | 22/31 [3:51:44<1:22:11, 547.97s/it]"
     ]
    },
    {
     "name": "stdout",
     "output_type": "stream",
     "text": [
      "1.75 out\n"
     ]
    },
    {
     "name": "stderr",
     "output_type": "stream",
     "text": [
      "100%|██████████████████████████████████████████████████████████████████████████████████| 50/50 [05:38<00:00,  4.78s/it]\n"
     ]
    },
    {
     "name": "stdout",
     "output_type": "stream",
     "text": [
      "1.75 red\n"
     ]
    },
    {
     "name": "stderr",
     "output_type": "stream",
     "text": [
      "100%|██████████████████████████████████████████████████████████████████████████████████| 50/50 [04:28<00:00,  2.67s/it]\n",
      " 74%|█████████████████████████████████████████████████████████▏                   | 23/31 [4:02:02<1:15:51, 568.92s/it]"
     ]
    },
    {
     "name": "stdout",
     "output_type": "stream",
     "text": [
      "2 out\n"
     ]
    },
    {
     "name": "stderr",
     "output_type": "stream",
     "text": [
      "100%|██████████████████████████████████████████████████████████████████████████████████| 50/50 [03:54<00:00,  3.29s/it]\n"
     ]
    },
    {
     "name": "stdout",
     "output_type": "stream",
     "text": [
      "2 red\n"
     ]
    },
    {
     "name": "stderr",
     "output_type": "stream",
     "text": [
      "100%|██████████████████████████████████████████████████████████████████████████████████| 50/50 [04:30<00:00,  3.92s/it]\n",
      " 77%|███████████████████████████████████████████████████████████▌                 | 24/31 [4:10:42<1:04:39, 554.25s/it]"
     ]
    },
    {
     "name": "stdout",
     "output_type": "stream",
     "text": [
      "2.5 out\n"
     ]
    },
    {
     "name": "stderr",
     "output_type": "stream",
     "text": [
      "100%|██████████████████████████████████████████████████████████████████████████████████| 50/50 [04:53<00:00,  3.60s/it]\n"
     ]
    },
    {
     "name": "stdout",
     "output_type": "stream",
     "text": [
      "2.5 red\n"
     ]
    },
    {
     "name": "stderr",
     "output_type": "stream",
     "text": [
      "100%|██████████████████████████████████████████████████████████████████████████████████| 50/50 [03:20<00:00,  2.56s/it]\n",
      " 81%|███████████████████████████████████████████████████████████████▋               | 25/31 [4:19:06<53:56, 539.38s/it]"
     ]
    },
    {
     "name": "stdout",
     "output_type": "stream",
     "text": [
      "3 out\n"
     ]
    },
    {
     "name": "stderr",
     "output_type": "stream",
     "text": [
      "100%|██████████████████████████████████████████████████████████████████████████████████| 50/50 [04:13<00:00,  3.67s/it]\n"
     ]
    },
    {
     "name": "stdout",
     "output_type": "stream",
     "text": [
      "3 red\n"
     ]
    },
    {
     "name": "stderr",
     "output_type": "stream",
     "text": [
      "100%|██████████████████████████████████████████████████████████████████████████████████| 50/50 [04:26<00:00,  3.51s/it]\n",
      " 84%|██████████████████████████████████████████████████████████████████▎            | 26/31 [4:28:00<44:48, 537.72s/it]"
     ]
    },
    {
     "name": "stdout",
     "output_type": "stream",
     "text": [
      "3.5 out\n"
     ]
    },
    {
     "name": "stderr",
     "output_type": "stream",
     "text": [
      "100%|██████████████████████████████████████████████████████████████████████████████████| 50/50 [04:21<00:00,  2.61s/it]\n"
     ]
    },
    {
     "name": "stdout",
     "output_type": "stream",
     "text": [
      "3.5 red\n"
     ]
    },
    {
     "name": "stderr",
     "output_type": "stream",
     "text": [
      "100%|██████████████████████████████████████████████████████████████████████████████████| 50/50 [03:13<00:00,  2.48s/it]\n",
      " 87%|████████████████████████████████████████████████████████████████████▊          | 27/31 [4:35:44<34:22, 515.56s/it]"
     ]
    },
    {
     "name": "stdout",
     "output_type": "stream",
     "text": [
      "4 out\n"
     ]
    },
    {
     "name": "stderr",
     "output_type": "stream",
     "text": [
      "100%|██████████████████████████████████████████████████████████████████████████████████| 50/50 [04:40<00:00,  3.53s/it]\n"
     ]
    },
    {
     "name": "stdout",
     "output_type": "stream",
     "text": [
      "4 red\n"
     ]
    },
    {
     "name": "stderr",
     "output_type": "stream",
     "text": [
      "100%|██████████████████████████████████████████████████████████████████████████████████| 50/50 [04:27<00:00,  3.66s/it]\n",
      " 90%|███████████████████████████████████████████████████████████████████████▎       | 28/31 [4:45:08<26:29, 529.97s/it]"
     ]
    },
    {
     "name": "stdout",
     "output_type": "stream",
     "text": [
      "5 out\n"
     ]
    },
    {
     "name": "stderr",
     "output_type": "stream",
     "text": [
      "100%|██████████████████████████████████████████████████████████████████████████████████| 50/50 [04:45<00:00,  3.61s/it]\n"
     ]
    },
    {
     "name": "stdout",
     "output_type": "stream",
     "text": [
      "5 red\n"
     ]
    },
    {
     "name": "stderr",
     "output_type": "stream",
     "text": [
      "100%|██████████████████████████████████████████████████████████████████████████████████| 50/50 [03:59<00:00,  2.49s/it]\n",
      " 94%|█████████████████████████████████████████████████████████████████████████▉     | 29/31 [4:54:05<17:44, 532.28s/it]"
     ]
    },
    {
     "name": "stdout",
     "output_type": "stream",
     "text": [
      "8 out\n"
     ]
    },
    {
     "name": "stderr",
     "output_type": "stream",
     "text": [
      "100%|██████████████████████████████████████████████████████████████████████████████████| 50/50 [03:35<00:00,  2.62s/it]\n"
     ]
    },
    {
     "name": "stdout",
     "output_type": "stream",
     "text": [
      "8 red\n"
     ]
    },
    {
     "name": "stderr",
     "output_type": "stream",
     "text": [
      "100%|██████████████████████████████████████████████████████████████████████████████████| 50/50 [03:22<00:00,  2.61s/it]\n",
      " 97%|████████████████████████████████████████████████████████████████████████████▍  | 30/31 [5:01:13<08:20, 500.84s/it]"
     ]
    },
    {
     "name": "stdout",
     "output_type": "stream",
     "text": [
      "10 out\n"
     ]
    },
    {
     "name": "stderr",
     "output_type": "stream",
     "text": [
      "100%|██████████████████████████████████████████████████████████████████████████████████| 50/50 [03:27<00:00,  3.07s/it]\n"
     ]
    },
    {
     "name": "stdout",
     "output_type": "stream",
     "text": [
      "10 red\n"
     ]
    },
    {
     "name": "stderr",
     "output_type": "stream",
     "text": [
      "100%|██████████████████████████████████████████████████████████████████████████████████| 50/50 [04:15<00:00,  3.71s/it]\n",
      "100%|███████████████████████████████████████████████████████████████████████████████| 31/31 [5:09:10<00:00, 493.64s/it]\n"
     ]
    }
   ],
   "source": [
    "#Analytical Mean field\n",
    "Simulator = ABM_MFana\n",
    "name = \"ResultsAna\" #name to store results\n",
    "Results = ResultsAna #point to propper results dict\n",
    "save = True\n",
    "run(Simulator,Results,name,save)"
   ]
  },
  {
   "cell_type": "code",
   "execution_count": 13,
   "metadata": {
    "ExecuteTime": {
     "end_time": "2021-07-01T14:39:14.615987Z",
     "start_time": "2021-07-01T13:08:17.013363Z"
    },
    "scrolled": true
   },
   "outputs": [
    {
     "name": "stderr",
     "output_type": "stream",
     "text": [
      "\r",
      "  0%|                                                                                            | 0/7 [00:00<?, ?it/s]"
     ]
    },
    {
     "name": "stdout",
     "output_type": "stream",
     "text": [
      "-0.1 out\n"
     ]
    },
    {
     "name": "stderr",
     "output_type": "stream",
     "text": [
      "100%|██████████████████████████████████████████████████████████████████████████████████| 50/50 [12:18<00:00, 11.51s/it]\n"
     ]
    },
    {
     "name": "stdout",
     "output_type": "stream",
     "text": [
      "-0.1 red\n"
     ]
    },
    {
     "name": "stderr",
     "output_type": "stream",
     "text": [
      "  0%|                                                                                           | 0/50 [00:00<?, ?it/s]C:\\ProgramData\\Anaconda3\\lib\\site-packages\\ipykernel_launcher.py:27: RuntimeWarning: divide by zero encountered in double_scalars\n",
      "100%|██████████████████████████████████████████████████████████████████████████████████| 50/50 [08:31<00:00,  9.76s/it]\n",
      " 14%|███████████▍                                                                    | 1/7 [21:59<2:11:54, 1319.16s/it]"
     ]
    },
    {
     "name": "stdout",
     "output_type": "stream",
     "text": [
      "-0.2 out\n"
     ]
    },
    {
     "name": "stderr",
     "output_type": "stream",
     "text": [
      "100%|██████████████████████████████████████████████████████████████████████████████████| 50/50 [12:13<00:00, 11.27s/it]\n"
     ]
    },
    {
     "name": "stdout",
     "output_type": "stream",
     "text": [
      "-0.2 red\n"
     ]
    },
    {
     "name": "stderr",
     "output_type": "stream",
     "text": [
      "100%|██████████████████████████████████████████████████████████████████████████████████| 50/50 [08:05<00:00,  7.32s/it]\n",
      " 29%|██████████████████████▊                                                         | 2/7 [43:13<1:48:48, 1305.68s/it]"
     ]
    },
    {
     "name": "stdout",
     "output_type": "stream",
     "text": [
      "-0.3 out\n"
     ]
    },
    {
     "name": "stderr",
     "output_type": "stream",
     "text": [
      "100%|██████████████████████████████████████████████████████████████████████████████████| 50/50 [10:18<00:00,  4.91s/it]\n"
     ]
    },
    {
     "name": "stdout",
     "output_type": "stream",
     "text": [
      "-0.3 red\n"
     ]
    },
    {
     "name": "stderr",
     "output_type": "stream",
     "text": [
      "100%|██████████████████████████████████████████████████████████████████████████████████| 50/50 [05:12<00:00,  4.51s/it]\n",
      " 43%|██████████████████████████████████▎                                             | 3/7 [59:12<1:20:06, 1201.68s/it]"
     ]
    },
    {
     "name": "stdout",
     "output_type": "stream",
     "text": [
      "-0.4 out\n"
     ]
    },
    {
     "name": "stderr",
     "output_type": "stream",
     "text": [
      "100%|██████████████████████████████████████████████████████████████████████████████████| 50/50 [05:40<00:00,  5.26s/it]\n"
     ]
    },
    {
     "name": "stdout",
     "output_type": "stream",
     "text": [
      "-0.4 red\n"
     ]
    },
    {
     "name": "stderr",
     "output_type": "stream",
     "text": [
      "100%|██████████████████████████████████████████████████████████████████████████████████| 50/50 [04:26<00:00,  3.91s/it]\n",
      " 57%|█████████████████████████████████████████████▋                                  | 4/7 [1:09:42<51:30, 1030.28s/it]"
     ]
    },
    {
     "name": "stdout",
     "output_type": "stream",
     "text": [
      "-0.5 out\n"
     ]
    },
    {
     "name": "stderr",
     "output_type": "stream",
     "text": [
      "100%|██████████████████████████████████████████████████████████████████████████████████| 50/50 [04:08<00:00,  2.55s/it]\n"
     ]
    },
    {
     "name": "stdout",
     "output_type": "stream",
     "text": [
      "-0.5 red\n"
     ]
    },
    {
     "name": "stderr",
     "output_type": "stream",
     "text": [
      "100%|██████████████████████████████████████████████████████████████████████████████████| 50/50 [02:47<00:00,  2.62s/it]\n",
      " 71%|█████████████████████████████████████████████████████████▊                       | 5/7 [1:16:51<28:19, 849.69s/it]"
     ]
    },
    {
     "name": "stdout",
     "output_type": "stream",
     "text": [
      "-0.6 out\n"
     ]
    },
    {
     "name": "stderr",
     "output_type": "stream",
     "text": [
      "100%|██████████████████████████████████████████████████████████████████████████████████| 50/50 [03:02<00:00,  3.00s/it]\n"
     ]
    },
    {
     "name": "stdout",
     "output_type": "stream",
     "text": [
      "-0.6 red\n"
     ]
    },
    {
     "name": "stderr",
     "output_type": "stream",
     "text": [
      "100%|██████████████████████████████████████████████████████████████████████████████████| 50/50 [02:34<00:00,  2.51s/it]\n",
      " 86%|█████████████████████████████████████████████████████████████████████▍           | 6/7 [1:22:41<11:40, 700.04s/it]"
     ]
    },
    {
     "name": "stdout",
     "output_type": "stream",
     "text": [
      "-0.7 out\n"
     ]
    },
    {
     "name": "stderr",
     "output_type": "stream",
     "text": [
      "100%|██████████████████████████████████████████████████████████████████████████████████| 50/50 [04:16<00:00,  3.52s/it]\n"
     ]
    },
    {
     "name": "stdout",
     "output_type": "stream",
     "text": [
      "-0.7 red\n"
     ]
    },
    {
     "name": "stderr",
     "output_type": "stream",
     "text": [
      "100%|██████████████████████████████████████████████████████████████████████████████████| 50/50 [03:38<00:00,  3.51s/it]\n",
      "100%|█████████████████████████████████████████████████████████████████████████████████| 7/7 [1:30:57<00:00, 638.69s/it]\n"
     ]
    }
   ],
   "source": [
    "#Analytical Mean field\n",
    "Simulator = ABM_MFana\n",
    "name = \"ResultsAna\" #name to store results\n",
    "Results = ResultsAna #point to propper results dict\n",
    "save = True\n",
    "run(Simulator,Results,name,save)"
   ]
  },
  {
   "cell_type": "code",
   "execution_count": 57,
   "metadata": {
    "ExecuteTime": {
     "end_time": "2021-06-25T11:45:07.843051Z",
     "start_time": "2021-06-25T11:45:07.833620Z"
    }
   },
   "outputs": [],
   "source": [
    "def ABM_MFsim(par,typ):\n",
    "    abm = ABM_MF(50000, par, phi2 = typ)\n",
    "    abm.step(50)\n",
    "    return abm.X"
   ]
  },
  {
   "cell_type": "code",
   "execution_count": 5,
   "metadata": {
    "ExecuteTime": {
     "end_time": "2021-06-18T00:58:52.470164Z",
     "start_time": "2021-06-17T14:51:11.161245Z"
    },
    "collapsed": true
   },
   "outputs": [
    {
     "name": "stderr",
     "output_type": "stream",
     "text": [
      "\r",
      "  0%|                                                                                           | 0/10 [00:00<?, ?it/s]"
     ]
    },
    {
     "name": "stdout",
     "output_type": "stream",
     "text": [
      "0 out\n",
      "0 red\n",
      "0.05 out\n",
      "0.05 red\n",
      "0.1 out\n",
      "0.1 red\n",
      "0.15 out\n",
      "0.15 red\n",
      "0.2 out\n",
      "0.2 red\n"
     ]
    },
    {
     "name": "stderr",
     "output_type": "stream",
     "text": [
      "\n",
      "  0%|                                                                                           | 0/50 [00:00<?, ?it/s]C:\\ProgramData\\Anaconda3\\lib\\site-packages\\ipykernel_launcher.py:20: VisibleDeprecationWarning: Creating an ndarray from ragged nested sequences (which is a list-or-tuple of lists-or-tuples-or ndarrays with different lengths or shapes) is deprecated. If you meant to do this, you must specify 'dtype=object' when creating the ndarray\n",
      "\n",
      "  2%|█▌                                                                              | 1/50 [02:39<2:09:52, 159.04s/it]\n",
      "  4%|███▏                                                                            | 2/50 [04:47<1:59:56, 149.93s/it]\n",
      "  6%|████▊                                                                           | 3/50 [07:07<1:55:07, 146.98s/it]\n",
      "  8%|██████▍                                                                         | 4/50 [09:57<1:57:54, 153.80s/it]\n",
      " 10%|████████                                                                        | 5/50 [12:38<1:57:01, 156.04s/it]\n",
      " 12%|█████████▌                                                                      | 6/50 [15:03<1:51:58, 152.69s/it]\n",
      " 14%|███████████▏                                                                    | 7/50 [17:13<1:44:34, 145.91s/it]\n",
      " 16%|████████████▊                                                                   | 8/50 [19:21<1:38:16, 140.40s/it]\n",
      " 18%|██████████████▍                                                                 | 9/50 [21:26<1:32:53, 135.95s/it]\n",
      " 20%|███████████████▊                                                               | 10/50 [23:25<1:27:06, 130.66s/it]\n",
      " 22%|█████████████████▍                                                             | 11/50 [25:20<1:22:00, 126.16s/it]\n",
      " 24%|██████████████████▉                                                            | 12/50 [27:13<1:17:17, 122.05s/it]\n",
      " 26%|████████████████████▌                                                          | 13/50 [29:02<1:12:51, 118.16s/it]\n",
      " 28%|██████████████████████                                                         | 14/50 [30:51<1:09:16, 115.46s/it]\n",
      " 30%|███████████████████████▋                                                       | 15/50 [32:38<1:05:56, 113.06s/it]\n",
      " 32%|█████████████████████████▎                                                     | 16/50 [34:23<1:02:40, 110.60s/it]\n",
      " 34%|███████████████████████████▌                                                     | 17/50 [36:04<59:09, 107.57s/it]\n",
      " 36%|█████████████████████████████▏                                                   | 18/50 [37:45<56:22, 105.69s/it]\n",
      " 38%|██████████████████████████████▊                                                  | 19/50 [39:24<53:28, 103.49s/it]\n",
      " 40%|████████████████████████████████▍                                                | 20/50 [41:01<50:54, 101.80s/it]\n",
      " 42%|██████████████████████████████████▍                                               | 21/50 [42:37<48:14, 99.83s/it]\n",
      " 44%|████████████████████████████████████                                              | 22/50 [44:04<44:52, 96.15s/it]\n",
      " 46%|█████████████████████████████████████▋                                            | 23/50 [45:08<38:57, 86.59s/it]\n",
      " 48%|███████████████████████████████████████▎                                          | 24/50 [46:12<34:35, 79.82s/it]\n",
      " 50%|█████████████████████████████████████████                                         | 25/50 [47:15<31:06, 74.64s/it]\n",
      " 52%|██████████████████████████████████████████▋                                       | 26/50 [48:17<28:19, 70.79s/it]\n",
      " 54%|████████████████████████████████████████████▎                                     | 27/50 [49:18<25:59, 67.80s/it]\n",
      " 56%|█████████████████████████████████████████████▉                                    | 28/50 [50:18<24:03, 65.59s/it]\n",
      " 58%|███████████████████████████████████████████████▌                                  | 29/50 [51:17<22:14, 63.54s/it]\n",
      " 60%|█████████████████████████████████████████████████▏                                | 30/50 [52:13<20:29, 61.46s/it]\n",
      " 62%|██████████████████████████████████████████████████▊                               | 31/50 [53:09<18:56, 59.83s/it]\n",
      " 64%|████████████████████████████████████████████████████▍                             | 32/50 [54:17<18:41, 62.28s/it]C:\\Users\\snied\\OneDrive\\Dokumente\\ETH\\Agent-Based Modelling of Social Systems\\ABM-Project-FS21\\Classes.py:132: RuntimeWarning: divide by zero encountered in long_scalars\n",
      "  return np.array(self.N*[(self.N-sum(self.s))/ np.sum(self.s)])\n",
      "\n",
      " 66%|██████████████████████████████████████████████████████                            | 33/50 [56:28<23:26, 82.71s/it]\n",
      " 68%|███████████████████████████████████████████████████████▊                          | 34/50 [58:06<23:17, 87.33s/it]\n",
      " 70%|█████████████████████████████████████████████████████████▍                        | 35/50 [59:31<21:40, 86.72s/it]\n",
      " 72%|█████████████████████████████████████████████████████████▌                      | 36/50 [1:01:01<20:24, 87.47s/it]\n",
      " 74%|███████████████████████████████████████████████████████████▏                    | 37/50 [1:02:36<19:28, 89.86s/it]\n",
      " 76%|████████████████████████████████████████████████████████████▊                   | 38/50 [1:04:12<18:18, 91.58s/it]\n",
      " 78%|██████████████████████████████████████████████████████████████▍                 | 39/50 [1:05:45<16:52, 92.09s/it]\n",
      " 80%|████████████████████████████████████████████████████████████████                | 40/50 [1:07:02<14:35, 87.52s/it]\n",
      " 82%|█████████████████████████████████████████████████████████████████▌              | 41/50 [1:08:17<12:34, 83.82s/it]\n",
      " 84%|███████████████████████████████████████████████████████████████████▏            | 42/50 [1:09:24<10:31, 78.91s/it]\n",
      " 86%|████████████████████████████████████████████████████████████████████▊           | 43/50 [1:10:35<08:55, 76.51s/it]\n",
      " 88%|██████████████████████████████████████████████████████████████████████▍         | 44/50 [1:11:38<07:15, 72.51s/it]\n",
      " 90%|████████████████████████████████████████████████████████████████████████        | 45/50 [1:12:33<05:35, 67.12s/it]\n",
      " 92%|█████████████████████████████████████████████████████████████████████████▌      | 46/50 [1:13:20<04:03, 60.97s/it]\n",
      " 94%|███████████████████████████████████████████████████████████████████████████▏    | 47/50 [1:14:02<02:45, 55.29s/it]\n",
      " 96%|████████████████████████████████████████████████████████████████████████████▊   | 48/50 [1:14:36<01:37, 48.90s/it]\n",
      " 98%|██████████████████████████████████████████████████████████████████████████████▍ | 49/50 [1:15:06<00:43, 43.37s/it]\n",
      "100%|████████████████████████████████████████████████████████████████████████████████| 50/50 [1:15:31<00:00, 37.98s/it]\n",
      " 50%|███████████████████████████████████████                                       | 5/10 [1:15:34<1:15:34, 906.81s/it]"
     ]
    },
    {
     "name": "stdout",
     "output_type": "stream",
     "text": [
      "0.25 out\n"
     ]
    },
    {
     "name": "stderr",
     "output_type": "stream",
     "text": [
      "\n",
      "  0%|                                                                                           | 0/50 [00:00<?, ?it/s]\n",
      "  2%|█▋                                                                                 | 1/50 [00:36<29:54, 36.62s/it]\n",
      "  4%|███▎                                                                               | 2/50 [01:15<29:43, 37.16s/it]\n",
      "  6%|████▉                                                                              | 3/50 [01:51<28:57, 36.96s/it]\n",
      "  8%|██████▋                                                                            | 4/50 [02:32<29:08, 38.01s/it]\n",
      " 10%|████████▎                                                                          | 5/50 [03:12<29:05, 38.80s/it]\n",
      " 12%|█████████▉                                                                         | 6/50 [03:52<28:40, 39.11s/it]\n",
      " 14%|███████████▌                                                                       | 7/50 [04:32<28:12, 39.36s/it]\n",
      " 16%|█████████████▎                                                                     | 8/50 [05:15<28:18, 40.43s/it]\n",
      " 18%|██████████████▉                                                                    | 9/50 [05:58<28:17, 41.39s/it]\n",
      " 20%|████████████████▍                                                                 | 10/50 [06:43<28:09, 42.23s/it]\n",
      " 22%|██████████████████                                                                | 11/50 [07:25<27:29, 42.31s/it]\n",
      " 24%|███████████████████▋                                                              | 12/50 [08:11<27:25, 43.31s/it]\n",
      " 26%|█████████████████████▎                                                            | 13/50 [08:56<26:58, 43.74s/it]\n",
      " 28%|██████████████████████▉                                                           | 14/50 [09:40<26:19, 43.87s/it]\n",
      " 30%|████████████████████████▌                                                         | 15/50 [10:26<25:56, 44.46s/it]\n",
      " 32%|██████████████████████████▏                                                       | 16/50 [11:15<25:58, 45.83s/it]\n",
      " 34%|███████████████████████████▉                                                      | 17/50 [12:00<25:09, 45.73s/it]\n",
      " 36%|█████████████████████████████▌                                                    | 18/50 [12:48<24:40, 46.28s/it]\n",
      " 38%|███████████████████████████████▏                                                  | 19/50 [13:38<24:34, 47.56s/it]\n",
      " 40%|████████████████████████████████▊                                                 | 20/50 [14:28<24:04, 48.17s/it]\n",
      " 42%|██████████████████████████████████▍                                               | 21/50 [15:19<23:42, 49.04s/it]\n",
      " 44%|████████████████████████████████████                                              | 22/50 [16:11<23:17, 49.91s/it]\n",
      " 46%|█████████████████████████████████████▋                                            | 23/50 [17:07<23:15, 51.69s/it]\n",
      " 48%|███████████████████████████████████████▎                                          | 24/50 [18:01<22:46, 52.54s/it]\n",
      " 50%|█████████████████████████████████████████                                         | 25/50 [19:01<22:44, 54.59s/it]\n",
      " 52%|██████████████████████████████████████████▋                                       | 26/50 [20:03<22:44, 56.84s/it]\n",
      " 54%|████████████████████████████████████████████▎                                     | 27/50 [21:04<22:15, 58.06s/it]\n",
      " 56%|█████████████████████████████████████████████▉                                    | 28/50 [22:04<21:35, 58.90s/it]\n",
      " 58%|███████████████████████████████████████████████▌                                  | 29/50 [23:03<20:35, 58.84s/it]\n",
      " 60%|█████████████████████████████████████████████████▏                                | 30/50 [23:59<19:21, 58.09s/it]\n",
      " 62%|██████████████████████████████████████████████████▊                               | 31/50 [24:49<17:34, 55.48s/it]\n",
      " 64%|████████████████████████████████████████████████████▍                             | 32/50 [25:35<15:49, 52.72s/it]\n",
      " 66%|██████████████████████████████████████████████████████                            | 33/50 [26:19<14:11, 50.09s/it]\n",
      " 68%|███████████████████████████████████████████████████████▊                          | 34/50 [26:57<12:24, 46.51s/it]\n",
      " 70%|█████████████████████████████████████████████████████████▍                        | 35/50 [27:35<11:00, 44.01s/it]\n",
      " 72%|███████████████████████████████████████████████████████████                       | 36/50 [28:03<09:07, 39.13s/it]\n",
      " 74%|████████████████████████████████████████████████████████████▋                     | 37/50 [28:28<07:32, 34.78s/it]\n",
      " 76%|██████████████████████████████████████████████████████████████▎                   | 38/50 [28:49<06:09, 30.78s/it]\n",
      " 78%|███████████████████████████████████████████████████████████████▉                  | 39/50 [29:11<05:08, 28.03s/it]\n",
      " 80%|█████████████████████████████████████████████████████████████████▌                | 40/50 [29:31<04:16, 25.63s/it]\n",
      " 82%|███████████████████████████████████████████████████████████████████▏              | 41/50 [29:47<03:25, 22.86s/it]\n",
      " 84%|████████████████████████████████████████████████████████████████████▉             | 42/50 [30:01<02:41, 20.16s/it]\n",
      " 86%|██████████████████████████████████████████████████████████████████████▌           | 43/50 [30:12<02:01, 17.40s/it]\n",
      " 88%|████████████████████████████████████████████████████████████████████████▏         | 44/50 [30:21<01:29, 14.88s/it]\n",
      " 90%|█████████████████████████████████████████████████████████████████████████▊        | 45/50 [30:29<01:04, 12.83s/it]\n",
      " 92%|███████████████████████████████████████████████████████████████████████████▍      | 46/50 [30:35<00:43, 10.77s/it]\n",
      " 94%|█████████████████████████████████████████████████████████████████████████████     | 47/50 [30:40<00:27,  9.12s/it]\n",
      " 96%|██████████████████████████████████████████████████████████████████████████████▋   | 48/50 [30:45<00:15,  7.70s/it]\n",
      " 98%|████████████████████████████████████████████████████████████████████████████████▎ | 49/50 [30:49<00:06,  6.63s/it]\n",
      "100%|██████████████████████████████████████████████████████████████████████████████████| 50/50 [30:52<00:00,  5.60s/it]\n",
      "                                                                                                                       "
     ]
    },
    {
     "name": "stdout",
     "output_type": "stream",
     "text": [
      "0.25 red\n"
     ]
    },
    {
     "name": "stderr",
     "output_type": "stream",
     "text": [
      "\n",
      "  0%|                                                                                           | 0/50 [00:00<?, ?it/s]\n",
      "  2%|█▌                                                                               | 1/50 [01:37<1:19:22, 97.19s/it]\n",
      "  4%|███▏                                                                             | 2/50 [03:10<1:16:52, 96.10s/it]\n",
      "  6%|████▊                                                                            | 3/50 [04:47<1:15:21, 96.20s/it]\n",
      "  8%|██████▍                                                                          | 4/50 [06:20<1:13:09, 95.42s/it]\n",
      " 10%|████████                                                                         | 5/50 [07:58<1:12:04, 96.11s/it]\n",
      " 12%|█████████▌                                                                      | 6/50 [09:58<1:15:37, 103.13s/it]\n",
      " 14%|███████████▏                                                                    | 7/50 [11:56<1:17:14, 107.79s/it]\n",
      " 16%|████████████▊                                                                   | 8/50 [13:52<1:17:13, 110.32s/it]\n",
      " 18%|██████████████▍                                                                 | 9/50 [15:48<1:16:30, 111.96s/it]\n",
      " 20%|███████████████▊                                                               | 10/50 [17:41<1:14:44, 112.10s/it]\n",
      " 22%|█████████████████▍                                                             | 11/50 [19:31<1:12:35, 111.69s/it]\n",
      " 24%|██████████████████▉                                                            | 12/50 [21:17<1:09:35, 109.87s/it]\n",
      " 26%|████████████████████▌                                                          | 13/50 [23:01<1:06:37, 108.03s/it]\n",
      " 28%|██████████████████████                                                         | 14/50 [24:45<1:04:09, 106.92s/it]\n",
      " 30%|███████████████████████▋                                                       | 15/50 [26:26<1:01:16, 105.05s/it]\n",
      " 32%|█████████████████████████▉                                                       | 16/50 [28:05<58:33, 103.34s/it]\n",
      " 34%|███████████████████████████▌                                                     | 17/50 [29:43<56:00, 101.84s/it]\n",
      " 36%|█████████████████████████████▌                                                    | 18/50 [31:17<53:00, 99.40s/it]\n",
      " 38%|███████████████████████████████▏                                                  | 19/50 [32:49<50:13, 97.22s/it]\n",
      " 40%|████████████████████████████████▊                                                 | 20/50 [34:19<47:24, 94.83s/it]\n",
      " 42%|██████████████████████████████████▍                                               | 21/50 [35:50<45:19, 93.76s/it]\n",
      " 44%|████████████████████████████████████                                              | 22/50 [37:16<42:42, 91.53s/it]\n",
      " 46%|█████████████████████████████████████▋                                            | 23/50 [38:43<40:33, 90.15s/it]\n",
      " 48%|███████████████████████████████████████▎                                          | 24/50 [40:08<38:20, 88.49s/it]\n",
      " 50%|█████████████████████████████████████████                                         | 25/50 [41:32<36:20, 87.24s/it]\n",
      " 52%|██████████████████████████████████████████▋                                       | 26/50 [42:54<34:12, 85.53s/it]\n",
      " 54%|████████████████████████████████████████████▎                                     | 27/50 [44:16<32:28, 84.72s/it]\n",
      " 56%|█████████████████████████████████████████████▉                                    | 28/50 [45:38<30:46, 83.93s/it]\n",
      " 58%|███████████████████████████████████████████████▌                                  | 29/50 [46:57<28:49, 82.36s/it]\n",
      " 60%|█████████████████████████████████████████████████▏                                | 30/50 [48:13<26:48, 80.43s/it]\n",
      " 62%|██████████████████████████████████████████████████▊                               | 31/50 [49:25<24:40, 77.93s/it]\n",
      " 64%|████████████████████████████████████████████████████▍                             | 32/50 [50:30<22:13, 74.07s/it]\n",
      " 66%|██████████████████████████████████████████████████████                            | 33/50 [51:32<19:58, 70.48s/it]\n",
      " 68%|███████████████████████████████████████████████████████▊                          | 34/50 [52:40<18:32, 69.51s/it]\n",
      " 70%|█████████████████████████████████████████████████████████▍                        | 35/50 [54:09<18:52, 75.49s/it]\n",
      " 72%|███████████████████████████████████████████████████████████                       | 36/50 [55:38<18:31, 79.41s/it]\n",
      " 74%|████████████████████████████████████████████████████████████▋                     | 37/50 [57:10<18:03, 83.32s/it]\n",
      " 76%|██████████████████████████████████████████████████████████████▎                   | 38/50 [58:45<17:21, 86.79s/it]\n",
      " 78%|██████████████████████████████████████████████████████████████▍                 | 39/50 [1:00:21<16:26, 89.68s/it]\n",
      " 80%|████████████████████████████████████████████████████████████████                | 40/50 [1:01:52<14:59, 89.99s/it]\n",
      " 82%|█████████████████████████████████████████████████████████████████▌              | 41/50 [1:03:25<13:38, 90.99s/it]\n",
      " 84%|███████████████████████████████████████████████████████████████████▏            | 42/50 [1:04:38<11:24, 85.54s/it]\n",
      " 86%|████████████████████████████████████████████████████████████████████▊           | 43/50 [1:05:44<09:18, 79.73s/it]\n",
      " 88%|██████████████████████████████████████████████████████████████████████▍         | 44/50 [1:06:45<07:24, 74.10s/it]\n",
      " 90%|████████████████████████████████████████████████████████████████████████        | 45/50 [1:07:38<05:37, 67.55s/it]\n",
      " 92%|█████████████████████████████████████████████████████████████████████████▌      | 46/50 [1:08:21<04:01, 60.33s/it]\n",
      " 94%|███████████████████████████████████████████████████████████████████████████▏    | 47/50 [1:09:02<02:43, 54.45s/it]\n",
      " 96%|████████████████████████████████████████████████████████████████████████████▊   | 48/50 [1:09:33<01:35, 47.55s/it]\n",
      " 98%|██████████████████████████████████████████████████████████████████████████████▍ | 49/50 [1:10:01<00:41, 41.66s/it]\n",
      "100%|████████████████████████████████████████████████████████████████████████████████| 50/50 [1:10:25<00:00, 36.39s/it]\n",
      " 60%|██████████████████████████████████████████████▏                              | 6/10 [2:56:55<2:43:56, 2459.25s/it]"
     ]
    },
    {
     "name": "stdout",
     "output_type": "stream",
     "text": [
      "0.3 out\n"
     ]
    },
    {
     "name": "stderr",
     "output_type": "stream",
     "text": [
      "\n",
      "  0%|                                                                                           | 0/50 [00:00<?, ?it/s]\n",
      "  2%|█▋                                                                                 | 1/50 [00:38<31:09, 38.16s/it]\n",
      "  4%|███▎                                                                               | 2/50 [01:17<30:55, 38.65s/it]\n",
      "  6%|████▉                                                                              | 3/50 [01:56<30:16, 38.65s/it]\n",
      "  8%|██████▋                                                                            | 4/50 [02:37<30:07, 39.30s/it]\n",
      " 10%|████████▎                                                                          | 5/50 [03:17<29:34, 39.44s/it]\n",
      " 12%|█████████▉                                                                         | 6/50 [03:56<28:58, 39.52s/it]\n",
      " 14%|███████████▌                                                                       | 7/50 [04:39<29:03, 40.55s/it]\n",
      " 16%|█████████████▎                                                                     | 8/50 [05:24<29:09, 41.65s/it]\n",
      " 18%|██████████████▉                                                                    | 9/50 [06:12<29:47, 43.59s/it]\n",
      " 20%|████████████████▍                                                                 | 10/50 [06:55<28:56, 43.41s/it]\n",
      " 22%|██████████████████                                                                | 11/50 [07:39<28:18, 43.54s/it]\n",
      " 24%|███████████████████▋                                                              | 12/50 [08:27<28:30, 45.00s/it]\n",
      " 26%|█████████████████████▎                                                            | 13/50 [09:15<28:18, 45.89s/it]\n",
      " 28%|██████████████████████▉                                                           | 14/50 [10:01<27:29, 45.83s/it]\n",
      " 30%|████████████████████████▌                                                         | 15/50 [10:48<26:55, 46.16s/it]\n",
      " 32%|██████████████████████████▏                                                       | 16/50 [11:36<26:28, 46.72s/it]\n",
      " 34%|███████████████████████████▉                                                      | 17/50 [12:27<26:24, 48.01s/it]\n",
      " 36%|█████████████████████████████▌                                                    | 18/50 [13:18<26:04, 48.90s/it]\n",
      " 38%|███████████████████████████████▏                                                  | 19/50 [14:10<25:46, 49.88s/it]\n",
      " 40%|████████████████████████████████▊                                                 | 20/50 [15:03<25:29, 50.98s/it]\n",
      " 42%|██████████████████████████████████▍                                               | 21/50 [15:58<25:08, 52.02s/it]\n",
      " 44%|████████████████████████████████████                                              | 22/50 [16:51<24:28, 52.46s/it]\n",
      " 46%|█████████████████████████████████████▋                                            | 23/50 [17:48<24:12, 53.81s/it]\n",
      " 48%|███████████████████████████████████████▎                                          | 24/50 [18:52<24:35, 56.76s/it]\n",
      " 50%|█████████████████████████████████████████                                         | 25/50 [19:57<24:39, 59.20s/it]\n",
      " 52%|██████████████████████████████████████████▋                                       | 26/50 [20:57<23:50, 59.62s/it]\n",
      " 54%|████████████████████████████████████████████▎                                     | 27/50 [22:00<23:13, 60.60s/it]\n",
      " 56%|█████████████████████████████████████████████▉                                    | 28/50 [23:02<22:22, 61.00s/it]\n",
      " 58%|███████████████████████████████████████████████▌                                  | 29/50 [23:58<20:49, 59.49s/it]\n",
      " 60%|█████████████████████████████████████████████████▏                                | 30/50 [24:52<19:16, 57.84s/it]\n",
      " 62%|██████████████████████████████████████████████████▊                               | 31/50 [25:42<17:35, 55.57s/it]\n",
      " 64%|████████████████████████████████████████████████████▍                             | 32/50 [26:26<15:36, 52.02s/it]\n",
      " 66%|██████████████████████████████████████████████████████                            | 33/50 [27:06<13:43, 48.43s/it]\n",
      " 68%|███████████████████████████████████████████████████████▊                          | 34/50 [27:43<12:00, 45.04s/it]\n",
      " 70%|█████████████████████████████████████████████████████████▍                        | 35/50 [28:16<10:19, 41.32s/it]\n",
      " 72%|███████████████████████████████████████████████████████████                       | 36/50 [28:47<08:53, 38.10s/it]\n",
      " 74%|████████████████████████████████████████████████████████████▋                     | 37/50 [29:15<07:39, 35.35s/it]\n",
      " 76%|██████████████████████████████████████████████████████████████▎                   | 38/50 [29:41<06:28, 32.39s/it]\n",
      " 78%|███████████████████████████████████████████████████████████████▉                  | 39/50 [30:05<05:27, 29.77s/it]\n",
      " 80%|█████████████████████████████████████████████████████████████████▌                | 40/50 [30:24<04:25, 26.53s/it]\n",
      " 82%|███████████████████████████████████████████████████████████████████▏              | 41/50 [30:41<03:34, 23.81s/it]\n",
      " 84%|████████████████████████████████████████████████████████████████████▉             | 42/50 [30:56<02:48, 21.08s/it]\n",
      " 86%|██████████████████████████████████████████████████████████████████████▌           | 43/50 [31:10<02:12, 18.92s/it]\n",
      " 88%|████████████████████████████████████████████████████████████████████████▏         | 44/50 [31:23<01:42, 17.13s/it]\n",
      " 90%|█████████████████████████████████████████████████████████████████████████▊        | 45/50 [31:32<01:14, 14.94s/it]\n",
      " 92%|███████████████████████████████████████████████████████████████████████████▍      | 46/50 [31:40<00:50, 12.69s/it]\n",
      " 94%|█████████████████████████████████████████████████████████████████████████████     | 47/50 [31:47<00:33, 11.05s/it]\n",
      " 96%|██████████████████████████████████████████████████████████████████████████████▋   | 48/50 [31:53<00:18,  9.38s/it]\n",
      " 98%|████████████████████████████████████████████████████████████████████████████████▎ | 49/50 [31:57<00:07,  7.95s/it]\n",
      "100%|██████████████████████████████████████████████████████████████████████████████████| 50/50 [32:01<00:00,  6.77s/it]\n",
      "                                                                                                                       "
     ]
    },
    {
     "name": "stdout",
     "output_type": "stream",
     "text": [
      "0.3 red\n"
     ]
    },
    {
     "name": "stderr",
     "output_type": "stream",
     "text": [
      "\n",
      "  0%|                                                                                           | 0/50 [00:00<?, ?it/s]\n",
      "  2%|█▌                                                                              | 1/50 [01:59<1:37:41, 119.63s/it]\n",
      "  4%|███▏                                                                            | 2/50 [03:39<1:31:03, 113.82s/it]\n",
      "  6%|████▊                                                                           | 3/50 [05:13<1:24:31, 107.90s/it]\n",
      "  8%|██████▍                                                                         | 4/50 [06:53<1:20:52, 105.49s/it]\n",
      " 10%|████████                                                                        | 5/50 [08:26<1:16:19, 101.76s/it]\n",
      " 12%|█████████▋                                                                       | 6/50 [09:57<1:12:05, 98.30s/it]\n",
      " 14%|███████████▏                                                                    | 7/50 [11:51<1:13:57, 103.20s/it]\n",
      " 16%|████████████▊                                                                   | 8/50 [13:44<1:14:08, 105.92s/it]\n",
      " 18%|██████████████▍                                                                 | 9/50 [15:40<1:14:33, 109.12s/it]\n",
      " 20%|███████████████▊                                                               | 10/50 [17:30<1:12:57, 109.45s/it]\n",
      " 22%|█████████████████▍                                                             | 11/50 [19:19<1:11:02, 109.28s/it]\n",
      " 24%|██████████████████▉                                                            | 12/50 [21:07<1:08:52, 108.75s/it]\n",
      " 26%|████████████████████▌                                                          | 13/50 [22:50<1:06:03, 107.12s/it]\n",
      " 28%|██████████████████████                                                         | 14/50 [24:33<1:03:27, 105.76s/it]\n",
      " 30%|███████████████████████▋                                                       | 15/50 [26:15<1:01:08, 104.81s/it]\n",
      " 32%|█████████████████████████▉                                                       | 16/50 [27:53<58:15, 102.81s/it]\n",
      " 34%|███████████████████████████▌                                                     | 17/50 [29:31<55:43, 101.33s/it]\n",
      " 36%|█████████████████████████████▌                                                    | 18/50 [31:07<53:07, 99.62s/it]\n",
      " 38%|███████████████████████████████▏                                                  | 19/50 [32:40<50:26, 97.63s/it]\n",
      " 40%|████████████████████████████████▊                                                 | 20/50 [34:11<47:47, 95.57s/it]\n",
      " 42%|██████████████████████████████████▍                                               | 21/50 [35:43<45:43, 94.60s/it]\n",
      " 44%|████████████████████████████████████                                              | 22/50 [37:10<43:03, 92.26s/it]\n",
      " 46%|█████████████████████████████████████▋                                            | 23/50 [38:37<40:52, 90.85s/it]\n",
      " 48%|███████████████████████████████████████▎                                          | 24/50 [40:06<39:01, 90.07s/it]\n",
      " 50%|█████████████████████████████████████████                                         | 25/50 [41:36<37:32, 90.09s/it]\n",
      " 52%|██████████████████████████████████████████▋                                       | 26/50 [43:01<35:27, 88.66s/it]\n",
      " 54%|████████████████████████████████████████████▎                                     | 27/50 [44:27<33:40, 87.83s/it]\n",
      " 56%|█████████████████████████████████████████████▉                                    | 28/50 [45:46<31:13, 85.17s/it]\n",
      " 58%|███████████████████████████████████████████████▌                                  | 29/50 [47:08<29:29, 84.25s/it]\n",
      " 60%|█████████████████████████████████████████████████▏                                | 30/50 [48:24<27:15, 81.76s/it]\n",
      " 62%|██████████████████████████████████████████████████▊                               | 31/50 [49:38<25:09, 79.44s/it]\n",
      " 64%|████████████████████████████████████████████████████▍                             | 32/50 [51:03<24:18, 81.04s/it]\n",
      " 66%|██████████████████████████████████████████████████████                            | 33/50 [52:25<23:05, 81.52s/it]\n",
      " 68%|███████████████████████████████████████████████████████▊                          | 34/50 [53:53<22:12, 83.30s/it]\n",
      " 70%|█████████████████████████████████████████████████████████▍                        | 35/50 [55:23<21:19, 85.27s/it]\n",
      " 72%|███████████████████████████████████████████████████████████                       | 36/50 [56:56<20:25, 87.54s/it]\n",
      " 74%|████████████████████████████████████████████████████████████▋                     | 37/50 [58:31<19:27, 89.80s/it]\n",
      " 76%|████████████████████████████████████████████████████████████▊                   | 38/50 [1:00:11<18:37, 93.10s/it]\n",
      " 78%|██████████████████████████████████████████████████████████████▍                 | 39/50 [1:01:46<17:07, 93.45s/it]\n",
      " 80%|████████████████████████████████████████████████████████████████                | 40/50 [1:03:03<14:45, 88.55s/it]\n",
      " 82%|█████████████████████████████████████████████████████████████████▌              | 41/50 [1:04:13<12:27, 83.01s/it]\n",
      " 84%|███████████████████████████████████████████████████████████████████▏            | 42/50 [1:05:04<09:46, 73.35s/it]\n",
      " 86%|████████████████████████████████████████████████████████████████████▊           | 43/50 [1:05:57<07:50, 67.23s/it]\n",
      " 88%|██████████████████████████████████████████████████████████████████████▍         | 44/50 [1:06:46<06:10, 61.76s/it]\n",
      " 90%|████████████████████████████████████████████████████████████████████████        | 45/50 [1:07:23<04:31, 54.34s/it]\n",
      " 92%|█████████████████████████████████████████████████████████████████████████▌      | 46/50 [1:07:56<03:11, 47.91s/it]\n",
      " 94%|███████████████████████████████████████████████████████████████████████████▏    | 47/50 [1:08:25<02:07, 42.39s/it]\n",
      " 96%|████████████████████████████████████████████████████████████████████████████▊   | 48/50 [1:08:51<01:14, 37.45s/it]\n",
      " 98%|██████████████████████████████████████████████████████████████████████████████▍ | 49/50 [1:09:17<00:33, 33.92s/it]\n",
      "100%|████████████████████████████████████████████████████████████████████████████████| 50/50 [1:09:38<00:00, 30.18s/it]\n",
      " 70%|█████████████████████████████████████████████████████▉                       | 7/10 [4:38:40<2:57:38, 3552.84s/it]"
     ]
    },
    {
     "name": "stdout",
     "output_type": "stream",
     "text": [
      "0.35 out\n"
     ]
    },
    {
     "name": "stderr",
     "output_type": "stream",
     "text": [
      "\n",
      "  0%|                                                                                           | 0/50 [00:00<?, ?it/s]\n",
      "  2%|█▋                                                                                 | 1/50 [00:35<28:49, 35.30s/it]\n",
      "  4%|███▎                                                                               | 2/50 [01:15<29:22, 36.73s/it]\n",
      "  6%|████▉                                                                              | 3/50 [01:55<29:30, 37.67s/it]\n",
      "  8%|██████▋                                                                            | 4/50 [02:35<29:34, 38.59s/it]\n",
      " 10%|████████▎                                                                          | 5/50 [03:16<29:22, 39.16s/it]\n",
      " 12%|█████████▉                                                                         | 6/50 [03:59<29:28, 40.19s/it]\n",
      " 14%|███████████▌                                                                       | 7/50 [04:40<29:08, 40.66s/it]\n",
      " 16%|█████████████▎                                                                     | 8/50 [05:23<28:57, 41.37s/it]\n",
      " 18%|██████████████▉                                                                    | 9/50 [06:08<28:55, 42.33s/it]\n",
      " 20%|████████████████▍                                                                 | 10/50 [06:52<28:30, 42.76s/it]\n",
      " 22%|██████████████████                                                                | 11/50 [07:37<28:19, 43.58s/it]\n",
      " 24%|███████████████████▋                                                              | 12/50 [08:25<28:28, 44.97s/it]\n",
      " 26%|█████████████████████▎                                                            | 13/50 [09:12<28:00, 45.41s/it]\n",
      " 28%|██████████████████████▉                                                           | 14/50 [10:00<27:43, 46.22s/it]\n",
      " 30%|████████████████████████▌                                                         | 15/50 [10:50<27:33, 47.24s/it]\n",
      " 32%|██████████████████████████▏                                                       | 16/50 [11:40<27:15, 48.12s/it]\n",
      " 34%|███████████████████████████▉                                                      | 17/50 [12:32<27:12, 49.46s/it]\n",
      " 36%|█████████████████████████████▌                                                    | 18/50 [13:26<27:07, 50.85s/it]\n",
      " 38%|███████████████████████████████▏                                                  | 19/50 [14:21<26:50, 51.95s/it]\n",
      " 40%|████████████████████████████████▊                                                 | 20/50 [15:15<26:14, 52.47s/it]\n",
      " 42%|██████████████████████████████████▍                                               | 21/50 [16:13<26:12, 54.21s/it]\n",
      " 44%|████████████████████████████████████                                              | 22/50 [17:11<25:47, 55.28s/it]\n",
      " 46%|█████████████████████████████████████▋                                            | 23/50 [18:09<25:16, 56.16s/it]\n",
      " 48%|███████████████████████████████████████▎                                          | 24/50 [19:10<24:56, 57.55s/it]\n",
      " 50%|█████████████████████████████████████████                                         | 25/50 [20:11<24:29, 58.77s/it]\n",
      " 52%|██████████████████████████████████████████▋                                       | 26/50 [21:15<24:04, 60.20s/it]\n",
      " 54%|████████████████████████████████████████████▎                                     | 27/50 [22:18<23:23, 61.04s/it]\n",
      " 56%|█████████████████████████████████████████████▉                                    | 28/50 [23:19<22:23, 61.08s/it]\n",
      " 58%|███████████████████████████████████████████████▌                                  | 29/50 [24:17<21:02, 60.12s/it]\n",
      " 60%|█████████████████████████████████████████████████▏                                | 30/50 [25:07<19:05, 57.26s/it]\n",
      " 62%|██████████████████████████████████████████████████▊                               | 31/50 [25:55<17:14, 54.45s/it]\n",
      " 64%|████████████████████████████████████████████████████▍                             | 32/50 [26:40<15:26, 51.46s/it]\n",
      " 66%|██████████████████████████████████████████████████████                            | 33/50 [27:19<13:30, 47.66s/it]\n",
      " 68%|███████████████████████████████████████████████████████▊                          | 34/50 [27:54<11:42, 43.92s/it]\n",
      " 70%|█████████████████████████████████████████████████████████▍                        | 35/50 [29:07<13:10, 52.72s/it]\n",
      " 72%|███████████████████████████████████████████████████████████                       | 36/50 [29:54<11:52, 50.87s/it]\n",
      " 74%|████████████████████████████████████████████████████████████▋                     | 37/50 [30:36<10:27, 48.26s/it]\n",
      " 76%|██████████████████████████████████████████████████████████████▎                   | 38/50 [31:17<09:13, 46.12s/it]\n",
      " 78%|███████████████████████████████████████████████████████████████▉                  | 39/50 [31:47<07:33, 41.23s/it]\n",
      " 80%|█████████████████████████████████████████████████████████████████▌                | 40/50 [32:11<06:02, 36.26s/it]\n",
      " 82%|███████████████████████████████████████████████████████████████████▏              | 41/50 [32:34<04:48, 32.07s/it]\n",
      " 84%|████████████████████████████████████████████████████████████████████▉             | 42/50 [32:57<03:54, 29.35s/it]\n",
      " 86%|██████████████████████████████████████████████████████████████████████▌           | 43/50 [33:13<02:57, 25.36s/it]\n",
      " 88%|████████████████████████████████████████████████████████████████████████▏         | 44/50 [33:28<02:14, 22.41s/it]\n",
      " 90%|█████████████████████████████████████████████████████████████████████████▊        | 45/50 [33:40<01:36, 19.24s/it]\n",
      " 92%|███████████████████████████████████████████████████████████████████████████▍      | 46/50 [33:50<01:05, 16.37s/it]\n",
      " 94%|█████████████████████████████████████████████████████████████████████████████     | 47/50 [33:59<00:42, 14.32s/it]\n",
      " 96%|██████████████████████████████████████████████████████████████████████████████▋   | 48/50 [34:15<00:29, 14.75s/it]\n",
      " 98%|████████████████████████████████████████████████████████████████████████████████▎ | 49/50 [34:21<00:12, 12.12s/it]\n",
      "100%|██████████████████████████████████████████████████████████████████████████████████| 50/50 [34:26<00:00, 10.08s/it]\n",
      "                                                                                                                       "
     ]
    },
    {
     "name": "stdout",
     "output_type": "stream",
     "text": [
      "0.35 red\n"
     ]
    },
    {
     "name": "stderr",
     "output_type": "stream",
     "text": [
      "\n",
      "  0%|                                                                                           | 0/50 [00:00<?, ?it/s]\n",
      "  2%|█▌                                                                              | 1/50 [02:58<2:25:38, 178.35s/it]\n",
      "  4%|███▏                                                                            | 2/50 [05:45<2:20:05, 175.11s/it]\n",
      "  6%|████▊                                                                           | 3/50 [08:33<2:15:20, 172.78s/it]\n",
      "  8%|██████▍                                                                         | 4/50 [11:08<2:08:28, 167.59s/it]\n",
      " 10%|████████                                                                        | 5/50 [13:25<1:58:45, 158.34s/it]\n",
      " 12%|█████████▌                                                                      | 6/50 [15:34<1:49:41, 149.58s/it]\n",
      " 14%|███████████▏                                                                    | 7/50 [17:38<1:41:34, 141.73s/it]\n",
      " 16%|████████████▊                                                                   | 8/50 [19:41<1:35:26, 136.34s/it]\n",
      " 18%|██████████████▍                                                                 | 9/50 [21:31<1:27:47, 128.48s/it]\n",
      " 20%|███████████████▊                                                               | 10/50 [23:25<1:22:46, 124.15s/it]\n",
      " 22%|█████████████████▍                                                             | 11/50 [25:15<1:17:50, 119.77s/it]\n",
      " 24%|██████████████████▉                                                            | 12/50 [26:58<1:12:35, 114.62s/it]\n",
      " 26%|████████████████████▌                                                          | 13/50 [28:41<1:08:35, 111.22s/it]\n",
      " 28%|██████████████████████                                                         | 14/50 [30:25<1:05:24, 109.00s/it]\n",
      " 30%|███████████████████████▋                                                       | 15/50 [32:05<1:02:04, 106.42s/it]\n",
      " 32%|█████████████████████████▉                                                       | 16/50 [33:45<59:08, 104.36s/it]\n",
      " 34%|███████████████████████████▌                                                     | 17/50 [35:19<55:43, 101.31s/it]\n",
      " 36%|█████████████████████████████▌                                                    | 18/50 [36:56<53:19, 99.98s/it]\n",
      " 38%|███████████████████████████████▏                                                  | 19/50 [38:31<50:54, 98.53s/it]\n",
      " 40%|████████████████████████████████▊                                                 | 20/50 [40:02<48:07, 96.25s/it]\n",
      " 42%|██████████████████████████████████▍                                               | 21/50 [41:35<46:05, 95.35s/it]\n",
      " 44%|████████████████████████████████████                                              | 22/50 [43:04<43:39, 93.56s/it]\n",
      " 46%|█████████████████████████████████████▋                                            | 23/50 [44:32<41:13, 91.63s/it]\n",
      " 48%|███████████████████████████████████████▎                                          | 24/50 [45:58<38:59, 89.96s/it]\n",
      " 50%|█████████████████████████████████████████                                         | 25/50 [47:19<36:22, 87.30s/it]\n",
      " 52%|██████████████████████████████████████████▋                                       | 26/50 [48:41<34:16, 85.69s/it]\n",
      " 54%|████████████████████████████████████████████▎                                     | 27/50 [50:03<32:28, 84.71s/it]\n",
      " 56%|█████████████████████████████████████████████▉                                    | 28/50 [51:24<30:38, 83.59s/it]\n",
      " 58%|███████████████████████████████████████████████▌                                  | 29/50 [52:40<28:24, 81.19s/it]\n",
      " 60%|█████████████████████████████████████████████████▏                                | 30/50 [53:59<26:53, 80.67s/it]\n",
      " 62%|██████████████████████████████████████████████████▊                               | 31/50 [55:13<24:54, 78.68s/it]\n",
      " 64%|████████████████████████████████████████████████████▍                             | 32/50 [56:29<23:18, 77.68s/it]\n",
      " 66%|██████████████████████████████████████████████████████                            | 33/50 [57:50<22:17, 78.69s/it]\n",
      " 68%|███████████████████████████████████████████████████████▊                          | 34/50 [59:20<21:56, 82.30s/it]\n",
      " 70%|████████████████████████████████████████████████████████                        | 35/50 [1:00:48<20:58, 83.89s/it]\n",
      " 72%|█████████████████████████████████████████████████████████▌                      | 36/50 [1:02:23<20:21, 87.26s/it]\n",
      " 74%|███████████████████████████████████████████████████████████▏                    | 37/50 [1:03:59<19:27, 89.84s/it]\n",
      " 76%|████████████████████████████████████████████████████████████▊                   | 38/50 [1:05:41<18:41, 93.46s/it]\n",
      " 78%|██████████████████████████████████████████████████████████████▍                 | 39/50 [1:07:19<17:24, 94.91s/it]\n",
      " 80%|████████████████████████████████████████████████████████████████                | 40/50 [1:08:53<15:46, 94.64s/it]\n",
      " 82%|█████████████████████████████████████████████████████████████████▌              | 41/50 [1:10:21<13:53, 92.63s/it]\n",
      " 84%|███████████████████████████████████████████████████████████████████▏            | 42/50 [1:11:31<11:27, 85.95s/it]\n",
      " 86%|████████████████████████████████████████████████████████████████████▊           | 43/50 [1:12:34<09:11, 78.80s/it]\n",
      " 88%|██████████████████████████████████████████████████████████████████████▍         | 44/50 [1:13:32<07:16, 72.82s/it]\n",
      " 90%|████████████████████████████████████████████████████████████████████████        | 45/50 [1:14:24<05:32, 66.42s/it]\n",
      " 92%|█████████████████████████████████████████████████████████████████████████▌      | 46/50 [1:15:07<03:57, 59.31s/it]\n",
      " 94%|███████████████████████████████████████████████████████████████████████████▏    | 47/50 [1:15:45<02:39, 53.06s/it]\n",
      " 96%|████████████████████████████████████████████████████████████████████████████▊   | 48/50 [1:16:18<01:33, 46.98s/it]\n",
      " 98%|██████████████████████████████████████████████████████████████████████████████▍ | 49/50 [1:16:44<00:40, 40.83s/it]\n",
      "100%|████████████████████████████████████████████████████████████████████████████████| 50/50 [1:17:06<00:00, 35.10s/it]\n",
      " 80%|█████████████████████████████████████████████████████████████▌               | 8/10 [6:30:19<2:29:53, 4496.67s/it]"
     ]
    },
    {
     "name": "stdout",
     "output_type": "stream",
     "text": [
      "0.4 out\n"
     ]
    },
    {
     "name": "stderr",
     "output_type": "stream",
     "text": [
      "\n",
      "  0%|                                                                                           | 0/50 [00:00<?, ?it/s]\n",
      "  2%|█▋                                                                                 | 1/50 [00:40<33:01, 40.45s/it]\n",
      "  4%|███▎                                                                               | 2/50 [01:20<32:11, 40.23s/it]\n",
      "  6%|████▉                                                                              | 3/50 [02:02<31:57, 40.80s/it]\n",
      "  8%|██████▋                                                                            | 4/50 [02:42<31:11, 40.69s/it]\n",
      " 10%|████████▎                                                                          | 5/50 [03:25<31:04, 41.44s/it]\n",
      " 12%|█████████▉                                                                         | 6/50 [04:10<30:59, 42.25s/it]\n",
      " 14%|███████████▌                                                                       | 7/50 [04:52<30:22, 42.38s/it]\n",
      " 16%|█████████████▎                                                                     | 8/50 [05:36<29:52, 42.67s/it]\n",
      " 18%|██████████████▉                                                                    | 9/50 [06:26<30:43, 44.97s/it]\n",
      " 20%|████████████████▍                                                                 | 10/50 [07:27<33:14, 49.87s/it]\n",
      " 22%|██████████████████                                                                | 11/50 [08:17<32:29, 49.99s/it]\n",
      " 24%|███████████████████▋                                                              | 12/50 [09:19<33:45, 53.31s/it]\n",
      " 26%|█████████████████████▎                                                            | 13/50 [10:24<35:04, 56.87s/it]\n",
      " 28%|██████████████████████▉                                                           | 14/50 [11:24<34:39, 57.76s/it]\n",
      " 30%|████████████████████████▌                                                         | 15/50 [12:26<34:28, 59.11s/it]\n",
      " 32%|██████████████████████████▏                                                       | 16/50 [13:34<35:05, 61.91s/it]\n",
      " 34%|███████████████████████████▉                                                      | 17/50 [14:45<35:33, 64.67s/it]\n",
      " 36%|█████████████████████████████▌                                                    | 18/50 [15:55<35:16, 66.14s/it]\n",
      " 38%|███████████████████████████████▏                                                  | 19/50 [17:08<35:11, 68.13s/it]\n",
      " 40%|████████████████████████████████▊                                                 | 20/50 [18:19<34:33, 69.11s/it]\n",
      " 42%|██████████████████████████████████▍                                               | 21/50 [19:22<32:29, 67.22s/it]\n",
      " 44%|████████████████████████████████████                                              | 22/50 [20:25<30:47, 65.99s/it]\n",
      " 46%|█████████████████████████████████████▋                                            | 23/50 [21:32<29:45, 66.15s/it]\n",
      " 48%|███████████████████████████████████████▎                                          | 24/50 [22:35<28:19, 65.38s/it]\n",
      " 50%|█████████████████████████████████████████                                         | 25/50 [23:41<27:20, 65.62s/it]\n",
      " 52%|██████████████████████████████████████████▋                                       | 26/50 [24:42<25:37, 64.05s/it]\n",
      " 54%|████████████████████████████████████████████▎                                     | 27/50 [25:42<24:07, 62.95s/it]\n",
      " 56%|█████████████████████████████████████████████▉                                    | 28/50 [26:41<22:36, 61.66s/it]\n",
      " 58%|███████████████████████████████████████████████▌                                  | 29/50 [27:35<20:46, 59.34s/it]\n",
      " 60%|█████████████████████████████████████████████████▏                                | 30/50 [28:24<18:47, 56.37s/it]\n",
      " 62%|██████████████████████████████████████████████████▊                               | 31/50 [29:08<16:38, 52.56s/it]\n",
      " 64%|████████████████████████████████████████████████████▍                             | 32/50 [29:47<14:34, 48.60s/it]\n",
      " 66%|██████████████████████████████████████████████████████                            | 33/50 [30:24<12:45, 45.05s/it]\n",
      " 68%|███████████████████████████████████████████████████████▊                          | 34/50 [30:58<11:06, 41.65s/it]\n",
      " 70%|█████████████████████████████████████████████████████████▍                        | 35/50 [31:29<09:40, 38.68s/it]\n",
      " 72%|███████████████████████████████████████████████████████████                       | 36/50 [31:59<08:21, 35.85s/it]\n",
      " 74%|████████████████████████████████████████████████████████████▋                     | 37/50 [32:23<07:01, 32.42s/it]\n",
      " 76%|██████████████████████████████████████████████████████████████▎                   | 38/50 [32:46<05:55, 29.64s/it]\n",
      " 78%|███████████████████████████████████████████████████████████████▉                  | 39/50 [33:07<04:56, 27.00s/it]\n",
      " 80%|█████████████████████████████████████████████████████████████████▌                | 40/50 [33:25<04:03, 24.37s/it]\n",
      " 82%|███████████████████████████████████████████████████████████████████▏              | 41/50 [33:42<03:17, 21.99s/it]\n",
      " 84%|████████████████████████████████████████████████████████████████████▉             | 42/50 [33:55<02:35, 19.44s/it]\n",
      " 86%|██████████████████████████████████████████████████████████████████████▌           | 43/50 [34:07<01:59, 17.06s/it]\n",
      " 88%|████████████████████████████████████████████████████████████████████████▏         | 44/50 [34:17<01:30, 15.13s/it]\n",
      " 90%|█████████████████████████████████████████████████████████████████████████▊        | 45/50 [34:25<01:05, 13.03s/it]\n",
      " 92%|███████████████████████████████████████████████████████████████████████████▍      | 46/50 [34:32<00:44, 11.18s/it]\n",
      " 94%|█████████████████████████████████████████████████████████████████████████████     | 47/50 [34:39<00:29,  9.85s/it]\n",
      " 96%|██████████████████████████████████████████████████████████████████████████████▋   | 48/50 [34:45<00:17,  8.60s/it]\n",
      " 98%|████████████████████████████████████████████████████████████████████████████████▎ | 49/50 [34:49<00:07,  7.43s/it]\n",
      "100%|██████████████████████████████████████████████████████████████████████████████████| 50/50 [34:53<00:00,  6.41s/it]\n",
      "                                                                                                                       "
     ]
    },
    {
     "name": "stdout",
     "output_type": "stream",
     "text": [
      "0.4 red\n"
     ]
    },
    {
     "name": "stderr",
     "output_type": "stream",
     "text": [
      "\n",
      "  0%|                                                                                           | 0/50 [00:00<?, ?it/s]\n",
      "  2%|█▌                                                                              | 1/50 [02:18<1:53:11, 138.61s/it]\n",
      "  4%|███▏                                                                            | 2/50 [04:28<1:48:50, 136.06s/it]\n",
      "  6%|████▊                                                                           | 3/50 [06:37<1:44:56, 133.96s/it]\n",
      "  8%|██████▍                                                                         | 4/50 [08:45<1:41:12, 132.02s/it]\n",
      " 10%|████████                                                                        | 5/50 [10:52<1:37:55, 130.56s/it]\n",
      " 12%|█████████▌                                                                      | 6/50 [12:54<1:33:53, 128.04s/it]\n",
      " 14%|███████████▏                                                                    | 7/50 [14:48<1:28:42, 123.78s/it]\n",
      " 16%|████████████▊                                                                   | 8/50 [16:48<1:25:47, 122.56s/it]\n",
      " 18%|██████████████▍                                                                 | 9/50 [18:42<1:22:05, 120.15s/it]\n",
      " 20%|███████████████▊                                                               | 10/50 [20:34<1:18:29, 117.74s/it]\n",
      " 22%|█████████████████▍                                                             | 11/50 [22:26<1:15:18, 115.87s/it]\n",
      " 24%|██████████████████▉                                                            | 12/50 [24:20<1:13:01, 115.29s/it]\n",
      " 26%|████████████████████▌                                                          | 13/50 [26:02<1:08:44, 111.47s/it]\n",
      " 28%|██████████████████████                                                         | 14/50 [27:45<1:05:19, 108.89s/it]\n",
      " 30%|███████████████████████▋                                                       | 15/50 [29:26<1:02:01, 106.34s/it]\n",
      " 32%|█████████████████████████▉                                                       | 16/50 [31:06<59:18, 104.66s/it]\n",
      " 34%|███████████████████████████▌                                                     | 17/50 [32:47<56:50, 103.33s/it]\n",
      " 36%|█████████████████████████████▏                                                   | 18/50 [34:21<53:45, 100.81s/it]\n",
      " 38%|███████████████████████████████▏                                                  | 19/50 [35:56<51:07, 98.95s/it]\n",
      " 40%|████████████████████████████████▊                                                 | 20/50 [37:30<48:45, 97.50s/it]\n",
      " 42%|██████████████████████████████████▍                                               | 21/50 [39:02<46:16, 95.75s/it]\n",
      " 44%|████████████████████████████████████                                              | 22/50 [40:29<43:26, 93.11s/it]\n",
      " 46%|█████████████████████████████████████▋                                            | 23/50 [42:01<41:47, 92.86s/it]\n",
      " 48%|███████████████████████████████████████▎                                          | 24/50 [43:28<39:29, 91.14s/it]\n",
      " 50%|█████████████████████████████████████████                                         | 25/50 [44:52<37:02, 88.90s/it]\n",
      " 52%|██████████████████████████████████████████▋                                       | 26/50 [46:22<35:40, 89.18s/it]\n",
      " 54%|████████████████████████████████████████████▎                                     | 27/50 [47:50<34:03, 88.84s/it]\n",
      " 56%|█████████████████████████████████████████████▉                                    | 28/50 [49:12<31:48, 86.74s/it]\n",
      " 58%|███████████████████████████████████████████████▌                                  | 29/50 [50:35<30:03, 85.86s/it]\n",
      " 60%|█████████████████████████████████████████████████▏                                | 30/50 [51:54<27:55, 83.78s/it]\n",
      " 62%|██████████████████████████████████████████████████▊                               | 31/50 [53:07<25:28, 80.44s/it]\n",
      " 64%|████████████████████████████████████████████████████▍                             | 32/50 [54:25<23:52, 79.60s/it]\n",
      " 66%|██████████████████████████████████████████████████████                            | 33/50 [55:49<23:00, 81.18s/it]\n",
      " 68%|███████████████████████████████████████████████████████▊                          | 34/50 [57:14<21:56, 82.30s/it]\n",
      " 70%|█████████████████████████████████████████████████████████▍                        | 35/50 [58:43<21:02, 84.19s/it]\n",
      " 72%|█████████████████████████████████████████████████████████▌                      | 36/50 [1:00:20<20:33, 88.11s/it]\n",
      " 74%|███████████████████████████████████████████████████████████▏                    | 37/50 [1:01:54<19:28, 89.88s/it]\n",
      " 76%|████████████████████████████████████████████████████████████▊                   | 38/50 [1:03:29<18:15, 91.29s/it]\n",
      " 78%|██████████████████████████████████████████████████████████████▍                 | 39/50 [1:05:09<17:14, 94.09s/it]\n",
      " 80%|████████████████████████████████████████████████████████████████                | 40/50 [1:06:38<15:24, 92.48s/it]\n",
      " 82%|█████████████████████████████████████████████████████████████████▌              | 41/50 [1:08:08<13:45, 91.77s/it]\n",
      " 84%|███████████████████████████████████████████████████████████████████▏            | 42/50 [1:09:11<11:04, 83.09s/it]\n",
      " 86%|████████████████████████████████████████████████████████████████████▊           | 43/50 [1:10:14<08:58, 76.92s/it]\n",
      " 88%|██████████████████████████████████████████████████████████████████████▍         | 44/50 [1:11:07<06:58, 69.72s/it]\n",
      " 90%|████████████████████████████████████████████████████████████████████████        | 45/50 [1:11:56<05:17, 63.53s/it]\n",
      " 92%|█████████████████████████████████████████████████████████████████████████▌      | 46/50 [1:12:37<03:47, 56.96s/it]\n",
      " 94%|███████████████████████████████████████████████████████████████████████████▏    | 47/50 [1:13:09<02:27, 49.27s/it]\n",
      " 96%|████████████████████████████████████████████████████████████████████████████▊   | 48/50 [1:13:34<01:23, 41.98s/it]\n",
      " 98%|██████████████████████████████████████████████████████████████████████████████▍ | 49/50 [1:13:55<00:35, 35.80s/it]\n",
      "100%|████████████████████████████████████████████████████████████████████████████████| 50/50 [1:14:12<00:00, 30.12s/it]\n",
      " 90%|█████████████████████████████████████████████████████████████████████▎       | 9/10 [8:19:30<1:25:13, 5113.01s/it]"
     ]
    },
    {
     "name": "stdout",
     "output_type": "stream",
     "text": [
      "0.45 out\n"
     ]
    },
    {
     "name": "stderr",
     "output_type": "stream",
     "text": [
      "\n",
      "  0%|                                                                                           | 0/50 [00:00<?, ?it/s]\n",
      "  2%|█▋                                                                                 | 1/50 [00:32<26:14, 32.14s/it]\n",
      "  4%|███▎                                                                               | 2/50 [01:05<25:56, 32.43s/it]\n",
      "  6%|████▉                                                                              | 3/50 [01:46<27:30, 35.12s/it]\n",
      "  8%|██████▋                                                                            | 4/50 [02:28<28:23, 37.04s/it]\n",
      " 10%|████████▎                                                                          | 5/50 [03:10<28:54, 38.54s/it]\n",
      " 12%|█████████▉                                                                         | 6/50 [03:48<28:07, 38.36s/it]\n",
      " 14%|███████████▌                                                                       | 7/50 [04:30<28:17, 39.47s/it]\n",
      " 16%|█████████████▎                                                                     | 8/50 [05:13<28:29, 40.70s/it]\n",
      " 18%|██████████████▉                                                                    | 9/50 [05:58<28:43, 42.04s/it]\n",
      " 20%|████████████████▍                                                                 | 10/50 [06:45<28:52, 43.32s/it]\n",
      " 22%|██████████████████                                                                | 11/50 [07:34<29:19, 45.11s/it]\n",
      " 24%|███████████████████▋                                                              | 12/50 [08:22<29:01, 45.82s/it]\n",
      " 26%|█████████████████████▎                                                            | 13/50 [09:10<28:42, 46.56s/it]\n",
      " 28%|██████████████████████▉                                                           | 14/50 [09:59<28:21, 47.25s/it]\n",
      " 30%|████████████████████████▌                                                         | 15/50 [10:50<28:20, 48.59s/it]\n",
      " 32%|██████████████████████████▏                                                       | 16/50 [11:44<28:25, 50.16s/it]\n",
      " 34%|███████████████████████████▉                                                      | 17/50 [12:38<28:10, 51.21s/it]\n",
      " 36%|█████████████████████████████▌                                                    | 18/50 [13:31<27:37, 51.80s/it]\n",
      " 38%|███████████████████████████████▏                                                  | 19/50 [14:28<27:36, 53.45s/it]\n",
      " 40%|████████████████████████████████▊                                                 | 20/50 [15:25<27:15, 54.51s/it]\n",
      " 42%|██████████████████████████████████▍                                               | 21/50 [16:24<26:54, 55.66s/it]\n",
      " 44%|████████████████████████████████████                                              | 22/50 [17:25<26:49, 57.47s/it]\n",
      " 46%|█████████████████████████████████████▋                                            | 23/50 [18:29<26:41, 59.32s/it]\n",
      " 48%|███████████████████████████████████████▎                                          | 24/50 [19:31<26:02, 60.11s/it]\n",
      " 50%|█████████████████████████████████████████                                         | 25/50 [20:33<25:21, 60.84s/it]\n",
      " 52%|██████████████████████████████████████████▋                                       | 26/50 [21:35<24:22, 60.92s/it]\n",
      " 54%|████████████████████████████████████████████▎                                     | 27/50 [22:35<23:17, 60.76s/it]\n",
      " 56%|█████████████████████████████████████████████▉                                    | 28/50 [23:29<21:30, 58.65s/it]\n",
      " 58%|███████████████████████████████████████████████▌                                  | 29/50 [24:19<19:38, 56.12s/it]\n",
      " 60%|█████████████████████████████████████████████████▏                                | 30/50 [25:07<17:51, 53.56s/it]\n",
      " 62%|██████████████████████████████████████████████████▊                               | 31/50 [25:52<16:09, 51.01s/it]\n",
      " 64%|████████████████████████████████████████████████████▍                             | 32/50 [26:32<14:20, 47.78s/it]\n",
      " 66%|██████████████████████████████████████████████████████                            | 33/50 [27:08<12:35, 44.43s/it]\n",
      " 68%|███████████████████████████████████████████████████████▊                          | 34/50 [27:41<10:55, 40.97s/it]\n",
      " 70%|█████████████████████████████████████████████████████████▍                        | 35/50 [28:11<09:24, 37.66s/it]\n",
      " 72%|███████████████████████████████████████████████████████████                       | 36/50 [28:38<08:00, 34.35s/it]\n",
      " 74%|████████████████████████████████████████████████████████████▋                     | 37/50 [29:02<06:47, 31.35s/it]\n",
      " 76%|██████████████████████████████████████████████████████████████▎                   | 38/50 [29:25<05:45, 28.78s/it]\n",
      " 78%|███████████████████████████████████████████████████████████████▉                  | 39/50 [29:45<04:48, 26.18s/it]\n",
      " 80%|█████████████████████████████████████████████████████████████████▌                | 40/50 [30:03<03:55, 23.58s/it]\n",
      " 82%|███████████████████████████████████████████████████████████████████▏              | 41/50 [30:18<03:09, 21.03s/it]\n",
      " 84%|████████████████████████████████████████████████████████████████████▉             | 42/50 [30:31<02:30, 18.82s/it]\n",
      " 86%|██████████████████████████████████████████████████████████████████████▌           | 43/50 [30:44<01:57, 16.81s/it]\n",
      " 88%|████████████████████████████████████████████████████████████████████████▏         | 44/50 [30:53<01:28, 14.69s/it]\n",
      " 90%|█████████████████████████████████████████████████████████████████████████▊        | 45/50 [31:01<01:03, 12.69s/it]\n",
      " 92%|███████████████████████████████████████████████████████████████████████████▍      | 46/50 [31:08<00:43, 11.00s/it]\n",
      " 94%|█████████████████████████████████████████████████████████████████████████████     | 47/50 [31:15<00:28,  9.59s/it]\n",
      " 96%|██████████████████████████████████████████████████████████████████████████████▋   | 48/50 [31:20<00:16,  8.35s/it]\n",
      " 98%|████████████████████████████████████████████████████████████████████████████████▎ | 49/50 [31:25<00:07,  7.34s/it]\n",
      "100%|██████████████████████████████████████████████████████████████████████████████████| 50/50 [31:29<00:00,  6.32s/it]\n",
      "                                                                                                                       "
     ]
    },
    {
     "name": "stdout",
     "output_type": "stream",
     "text": [
      "0.45 red\n"
     ]
    },
    {
     "name": "stderr",
     "output_type": "stream",
     "text": [
      "\n",
      "  0%|                                                                                           | 0/50 [00:00<?, ?it/s]\n",
      "  2%|█▌                                                                              | 1/50 [02:18<1:53:00, 138.39s/it]\n",
      "  4%|███▏                                                                            | 2/50 [04:36<1:50:43, 138.40s/it]\n",
      "  6%|████▊                                                                           | 3/50 [06:47<1:46:38, 136.13s/it]\n",
      "  8%|██████▍                                                                         | 4/50 [08:58<1:43:13, 134.65s/it]\n",
      " 10%|████████                                                                        | 5/50 [11:06<1:39:22, 132.50s/it]\n",
      " 12%|█████████▌                                                                      | 6/50 [13:14<1:36:06, 131.06s/it]\n",
      " 14%|███████████▏                                                                    | 7/50 [15:11<1:31:05, 127.10s/it]\n",
      " 16%|████████████▊                                                                   | 8/50 [17:09<1:26:53, 124.12s/it]\n",
      " 18%|██████████████▍                                                                 | 9/50 [19:04<1:23:04, 121.58s/it]\n",
      " 20%|███████████████▊                                                               | 10/50 [20:59<1:19:41, 119.54s/it]\n",
      " 22%|█████████████████▍                                                             | 11/50 [22:53<1:16:36, 117.87s/it]\n",
      " 24%|██████████████████▉                                                            | 12/50 [24:44<1:13:21, 115.83s/it]\n",
      " 26%|████████████████████▌                                                          | 13/50 [26:45<1:12:23, 117.39s/it]\n",
      " 28%|██████████████████████                                                         | 14/50 [28:31<1:08:26, 114.08s/it]\n",
      " 30%|███████████████████████▋                                                       | 15/50 [30:13<1:04:26, 110.46s/it]\n",
      " 32%|█████████████████████████▎                                                     | 16/50 [31:59<1:01:42, 108.89s/it]\n",
      " 34%|███████████████████████████▌                                                     | 17/50 [33:37<58:06, 105.66s/it]\n",
      " 36%|█████████████████████████████▏                                                   | 18/50 [35:15<55:05, 103.29s/it]\n",
      " 38%|██████████████████████████████▊                                                  | 19/50 [36:55<52:52, 102.33s/it]\n",
      " 40%|████████████████████████████████▍                                                | 20/50 [38:31<50:12, 100.42s/it]\n",
      " 42%|██████████████████████████████████▍                                               | 21/50 [40:04<47:28, 98.24s/it]\n",
      " 44%|████████████████████████████████████                                              | 22/50 [41:36<45:03, 96.55s/it]\n",
      " 46%|█████████████████████████████████████▋                                            | 23/50 [43:09<42:53, 95.30s/it]\n",
      " 48%|███████████████████████████████████████▎                                          | 24/50 [44:39<40:34, 93.65s/it]\n",
      " 50%|█████████████████████████████████████████                                         | 25/50 [46:08<38:31, 92.45s/it]\n",
      " 52%|██████████████████████████████████████████▋                                       | 26/50 [47:41<37:01, 92.57s/it]\n",
      " 54%|████████████████████████████████████████████▎                                     | 27/50 [49:06<34:39, 90.41s/it]\n",
      " 56%|█████████████████████████████████████████████▉                                    | 28/50 [50:29<32:17, 88.09s/it]\n",
      " 58%|███████████████████████████████████████████████▌                                  | 29/50 [51:51<30:09, 86.15s/it]\n",
      " 60%|█████████████████████████████████████████████████▏                                | 30/50 [53:15<28:30, 85.52s/it]\n",
      " 62%|██████████████████████████████████████████████████▊                               | 31/50 [54:34<26:29, 83.66s/it]\n",
      " 64%|████████████████████████████████████████████████████▍                             | 32/50 [55:54<24:46, 82.60s/it]\n",
      " 66%|██████████████████████████████████████████████████████                            | 33/50 [57:23<23:53, 84.33s/it]\n",
      " 68%|███████████████████████████████████████████████████████▊                          | 34/50 [58:51<22:48, 85.51s/it]\n",
      " 70%|████████████████████████████████████████████████████████                        | 35/50 [1:00:25<22:01, 88.11s/it]\n",
      " 72%|█████████████████████████████████████████████████████████▌                      | 36/50 [1:02:03<21:15, 91.10s/it]\n",
      " 74%|███████████████████████████████████████████████████████████▏                    | 37/50 [1:03:44<20:21, 93.96s/it]\n",
      " 76%|████████████████████████████████████████████████████████████▊                   | 38/50 [1:05:30<19:30, 97.55s/it]\n",
      " 78%|██████████████████████████████████████████████████████████████▍                 | 39/50 [1:07:15<18:18, 99.86s/it]\n",
      " 80%|████████████████████████████████████████████████████████████████                | 40/50 [1:08:48<16:19, 97.96s/it]\n",
      " 82%|█████████████████████████████████████████████████████████████████▌              | 41/50 [1:10:29<14:47, 98.61s/it]\n",
      " 84%|███████████████████████████████████████████████████████████████████▏            | 42/50 [1:11:37<11:56, 89.56s/it]\n",
      " 86%|████████████████████████████████████████████████████████████████████▊           | 43/50 [1:12:29<09:08, 78.39s/it]\n",
      " 88%|██████████████████████████████████████████████████████████████████████▍         | 44/50 [1:13:20<06:59, 69.99s/it]\n",
      " 90%|████████████████████████████████████████████████████████████████████████        | 45/50 [1:14:08<05:16, 63.34s/it]\n",
      " 92%|█████████████████████████████████████████████████████████████████████████▌      | 46/50 [1:14:49<03:47, 56.79s/it]\n",
      " 94%|███████████████████████████████████████████████████████████████████████████▏    | 47/50 [1:15:26<02:32, 50.84s/it]\n",
      " 96%|████████████████████████████████████████████████████████████████████████████▊   | 48/50 [1:15:55<01:28, 44.43s/it]\n",
      " 98%|██████████████████████████████████████████████████████████████████████████████▍ | 49/50 [1:16:17<00:37, 37.64s/it]\n",
      "100%|████████████████████████████████████████████████████████████████████████████████| 50/50 [1:16:36<00:00, 31.83s/it]\n",
      "100%|█████████████████████████████████████████████████████████████████████████████| 10/10 [10:07:41<00:00, 5526.37s/it]\n"
     ]
    }
   ],
   "source": [
    "#Simulation Mean field\n",
    "Simulator = ABM_MFsim\n",
    "Results = ResultsSim \n",
    "name = \"ResultsSim\" \n",
    "save = False\n",
    "run(Simulator,Results,name,save)"
   ]
  },
  {
   "cell_type": "code",
   "execution_count": 25,
   "metadata": {
    "ExecuteTime": {
     "end_time": "2021-06-26T14:48:35.457861Z",
     "start_time": "2021-06-26T14:48:35.449429Z"
    }
   },
   "outputs": [],
   "source": [
    "def ABM_Karate(par,typ):\n",
    "    X_ = []\n",
    "    for i in range(20):\n",
    "        net = nx.karate_club_graph()\n",
    "        abm = ABM(net, par, phi2 = typ)\n",
    "        abm.step(50)\n",
    "        X_.append(abm.X[-2:])\n",
    "    return np.mean(X_, axis = 0)"
   ]
  },
  {
   "cell_type": "code",
   "execution_count": 27,
   "metadata": {
    "ExecuteTime": {
     "end_time": "2021-06-26T22:27:26.528517Z",
     "start_time": "2021-06-26T14:48:44.960724Z"
    },
    "scrolled": true
   },
   "outputs": [
    {
     "name": "stderr",
     "output_type": "stream",
     "text": [
      "\n",
      "  0%|                                                                                           | 0/31 [00:00<?, ?it/s]"
     ]
    },
    {
     "name": "stdout",
     "output_type": "stream",
     "text": [
      "0 out\n"
     ]
    },
    {
     "name": "stderr",
     "output_type": "stream",
     "text": [
      "100%|██████████████████████████████████████████████████████████████████████████████████| 50/50 [05:35<00:00,  5.14s/it]\n"
     ]
    },
    {
     "name": "stdout",
     "output_type": "stream",
     "text": [
      "0 red\n"
     ]
    },
    {
     "name": "stderr",
     "output_type": "stream",
     "text": [
      "100%|██████████████████████████████████████████████████████████████████████████████████| 50/50 [10:18<00:00,  4.07s/it]\n",
      "  3%|██▌                                                                             | 1/31 [15:53<7:56:52, 953.75s/it]"
     ]
    },
    {
     "name": "stdout",
     "output_type": "stream",
     "text": [
      "0.05 out\n"
     ]
    },
    {
     "name": "stderr",
     "output_type": "stream",
     "text": [
      "100%|██████████████████████████████████████████████████████████████████████████████████| 50/50 [05:28<00:00,  2.96s/it]\n"
     ]
    },
    {
     "name": "stdout",
     "output_type": "stream",
     "text": [
      "0.05 red\n"
     ]
    },
    {
     "name": "stderr",
     "output_type": "stream",
     "text": [
      "100%|██████████████████████████████████████████████████████████████████████████████████| 50/50 [08:45<00:00,  9.17s/it]\n",
      "  6%|█████▏                                                                          | 2/31 [30:08<7:26:33, 923.91s/it]"
     ]
    },
    {
     "name": "stdout",
     "output_type": "stream",
     "text": [
      "0.1 out\n"
     ]
    },
    {
     "name": "stderr",
     "output_type": "stream",
     "text": [
      "100%|██████████████████████████████████████████████████████████████████████████████████| 50/50 [07:01<00:00,  3.19s/it]\n"
     ]
    },
    {
     "name": "stdout",
     "output_type": "stream",
     "text": [
      "0.1 red\n"
     ]
    },
    {
     "name": "stderr",
     "output_type": "stream",
     "text": [
      "100%|██████████████████████████████████████████████████████████████████████████████████| 50/50 [09:40<00:00,  6.02s/it]\n",
      " 10%|███████▋                                                                        | 3/31 [46:50<7:22:09, 947.50s/it]"
     ]
    },
    {
     "name": "stdout",
     "output_type": "stream",
     "text": [
      "0.15 out\n"
     ]
    },
    {
     "name": "stderr",
     "output_type": "stream",
     "text": [
      "100%|██████████████████████████████████████████████████████████████████████████████████| 50/50 [06:06<00:00,  2.65s/it]\n"
     ]
    },
    {
     "name": "stdout",
     "output_type": "stream",
     "text": [
      "0.15 red\n"
     ]
    },
    {
     "name": "stderr",
     "output_type": "stream",
     "text": [
      "100%|██████████████████████████████████████████████████████████████████████████████████| 50/50 [08:30<00:00,  5.59s/it]\n",
      " 13%|██████████                                                                    | 4/31 [1:01:27<6:56:49, 926.26s/it]"
     ]
    },
    {
     "name": "stdout",
     "output_type": "stream",
     "text": [
      "0.2 out\n"
     ]
    },
    {
     "name": "stderr",
     "output_type": "stream",
     "text": [
      "100%|██████████████████████████████████████████████████████████████████████████████████| 50/50 [06:05<00:00,  2.61s/it]\n"
     ]
    },
    {
     "name": "stdout",
     "output_type": "stream",
     "text": [
      "0.2 red\n"
     ]
    },
    {
     "name": "stderr",
     "output_type": "stream",
     "text": [
      "100%|██████████████████████████████████████████████████████████████████████████████████| 50/50 [08:27<00:00,  6.60s/it]\n",
      " 16%|████████████▌                                                                 | 5/31 [1:15:59<6:34:25, 910.20s/it]"
     ]
    },
    {
     "name": "stdout",
     "output_type": "stream",
     "text": [
      "0.25 out\n"
     ]
    },
    {
     "name": "stderr",
     "output_type": "stream",
     "text": [
      "100%|██████████████████████████████████████████████████████████████████████████████████| 50/50 [07:16<00:00,  4.20s/it]\n"
     ]
    },
    {
     "name": "stdout",
     "output_type": "stream",
     "text": [
      "0.25 red\n"
     ]
    },
    {
     "name": "stderr",
     "output_type": "stream",
     "text": [
      "100%|██████████████████████████████████████████████████████████████████████████████████| 50/50 [07:58<00:00,  3.55s/it]\n",
      " 19%|███████████████                                                               | 6/31 [1:31:14<6:19:50, 911.63s/it]"
     ]
    },
    {
     "name": "stdout",
     "output_type": "stream",
     "text": [
      "0.3 out\n"
     ]
    },
    {
     "name": "stderr",
     "output_type": "stream",
     "text": [
      "100%|██████████████████████████████████████████████████████████████████████████████████| 50/50 [04:34<00:00,  3.20s/it]\n"
     ]
    },
    {
     "name": "stdout",
     "output_type": "stream",
     "text": [
      "0.3 red\n"
     ]
    },
    {
     "name": "stderr",
     "output_type": "stream",
     "text": [
      "100%|██████████████████████████████████████████████████████████████████████████████████| 50/50 [07:04<00:00,  5.68s/it]\n",
      " 23%|█████████████████▌                                                            | 7/31 [1:42:54<5:39:11, 847.99s/it]"
     ]
    },
    {
     "name": "stdout",
     "output_type": "stream",
     "text": [
      "0.35 out\n"
     ]
    },
    {
     "name": "stderr",
     "output_type": "stream",
     "text": [
      "100%|██████████████████████████████████████████████████████████████████████████████████| 50/50 [07:17<00:00,  4.59s/it]\n"
     ]
    },
    {
     "name": "stdout",
     "output_type": "stream",
     "text": [
      "0.35 red\n"
     ]
    },
    {
     "name": "stderr",
     "output_type": "stream",
     "text": [
      "100%|██████████████████████████████████████████████████████████████████████████████████| 50/50 [07:13<00:00,  5.81s/it]\n",
      " 26%|████████████████████▏                                                         | 8/31 [1:57:25<5:27:42, 854.90s/it]"
     ]
    },
    {
     "name": "stdout",
     "output_type": "stream",
     "text": [
      "0.4 out\n"
     ]
    },
    {
     "name": "stderr",
     "output_type": "stream",
     "text": [
      "100%|██████████████████████████████████████████████████████████████████████████████████| 50/50 [07:15<00:00,  4.22s/it]\n"
     ]
    },
    {
     "name": "stdout",
     "output_type": "stream",
     "text": [
      "0.4 red\n"
     ]
    },
    {
     "name": "stderr",
     "output_type": "stream",
     "text": [
      "100%|██████████████████████████████████████████████████████████████████████████████████| 50/50 [07:13<00:00,  6.69s/it]\n",
      " 29%|██████████████████████▋                                                       | 9/31 [2:11:55<5:15:06, 859.39s/it]"
     ]
    },
    {
     "name": "stdout",
     "output_type": "stream",
     "text": [
      "0.45 out\n"
     ]
    },
    {
     "name": "stderr",
     "output_type": "stream",
     "text": [
      "100%|██████████████████████████████████████████████████████████████████████████████████| 50/50 [07:28<00:00,  4.20s/it]\n"
     ]
    },
    {
     "name": "stdout",
     "output_type": "stream",
     "text": [
      "0.45 red\n"
     ]
    },
    {
     "name": "stderr",
     "output_type": "stream",
     "text": [
      "100%|██████████████████████████████████████████████████████████████████████████████████| 50/50 [07:54<00:00,  6.30s/it]\n",
      " 32%|████████████████████████▊                                                    | 10/31 [2:27:19<5:07:35, 878.83s/it]"
     ]
    },
    {
     "name": "stdout",
     "output_type": "stream",
     "text": [
      "0.5 out\n"
     ]
    },
    {
     "name": "stderr",
     "output_type": "stream",
     "text": [
      "100%|██████████████████████████████████████████████████████████████████████████████████| 50/50 [07:39<00:00,  4.29s/it]\n"
     ]
    },
    {
     "name": "stdout",
     "output_type": "stream",
     "text": [
      "0.5 red\n"
     ]
    },
    {
     "name": "stderr",
     "output_type": "stream",
     "text": [
      "100%|██████████████████████████████████████████████████████████████████████████████████| 50/50 [09:49<00:00,  3.99s/it]\n",
      " 35%|███████████████████████████▎                                                 | 11/31 [2:44:49<5:10:01, 930.10s/it]"
     ]
    },
    {
     "name": "stdout",
     "output_type": "stream",
     "text": [
      "0.55 out\n"
     ]
    },
    {
     "name": "stderr",
     "output_type": "stream",
     "text": [
      "100%|██████████████████████████████████████████████████████████████████████████████████| 50/50 [05:06<00:00,  3.31s/it]\n"
     ]
    },
    {
     "name": "stdout",
     "output_type": "stream",
     "text": [
      "0.55 red\n"
     ]
    },
    {
     "name": "stderr",
     "output_type": "stream",
     "text": [
      "100%|██████████████████████████████████████████████████████████████████████████████████| 50/50 [07:46<00:00,  6.24s/it]\n",
      " 39%|█████████████████████████████▊                                               | 12/31 [2:57:42<4:39:40, 883.17s/it]"
     ]
    },
    {
     "name": "stdout",
     "output_type": "stream",
     "text": [
      "0.6 out\n"
     ]
    },
    {
     "name": "stderr",
     "output_type": "stream",
     "text": [
      "100%|██████████████████████████████████████████████████████████████████████████████████| 50/50 [07:53<00:00,  4.21s/it]\n"
     ]
    },
    {
     "name": "stdout",
     "output_type": "stream",
     "text": [
      "0.6 red\n"
     ]
    },
    {
     "name": "stderr",
     "output_type": "stream",
     "text": [
      "100%|██████████████████████████████████████████████████████████████████████████████████| 50/50 [08:28<00:00,  6.79s/it]\n",
      " 42%|████████████████████████████████▎                                            | 13/31 [3:14:05<4:33:56, 913.13s/it]"
     ]
    },
    {
     "name": "stdout",
     "output_type": "stream",
     "text": [
      "0.65 out\n"
     ]
    },
    {
     "name": "stderr",
     "output_type": "stream",
     "text": [
      "100%|██████████████████████████████████████████████████████████████████████████████████| 50/50 [07:57<00:00,  4.77s/it]\n"
     ]
    },
    {
     "name": "stdout",
     "output_type": "stream",
     "text": [
      "0.65 red\n"
     ]
    },
    {
     "name": "stderr",
     "output_type": "stream",
     "text": [
      "100%|██████████████████████████████████████████████████████████████████████████████████| 50/50 [08:00<00:00,  4.02s/it]\n",
      " 45%|██████████████████████████████████▊                                          | 14/31 [3:30:04<4:22:33, 926.68s/it]"
     ]
    },
    {
     "name": "stdout",
     "output_type": "stream",
     "text": [
      "0.7 out\n"
     ]
    },
    {
     "name": "stderr",
     "output_type": "stream",
     "text": [
      "100%|██████████████████████████████████████████████████████████████████████████████████| 50/50 [04:41<00:00,  2.61s/it]\n"
     ]
    },
    {
     "name": "stdout",
     "output_type": "stream",
     "text": [
      "0.7 red\n"
     ]
    },
    {
     "name": "stderr",
     "output_type": "stream",
     "text": [
      "100%|██████████████████████████████████████████████████████████████████████████████████| 50/50 [07:21<00:00,  6.36s/it]\n",
      " 48%|█████████████████████████████████████▎                                       | 15/31 [3:42:07<3:50:52, 865.75s/it]"
     ]
    },
    {
     "name": "stdout",
     "output_type": "stream",
     "text": [
      "0.75 out\n"
     ]
    },
    {
     "name": "stderr",
     "output_type": "stream",
     "text": [
      "100%|██████████████████████████████████████████████████████████████████████████████████| 50/50 [07:33<00:00,  4.15s/it]\n"
     ]
    },
    {
     "name": "stdout",
     "output_type": "stream",
     "text": [
      "0.75 red\n"
     ]
    },
    {
     "name": "stderr",
     "output_type": "stream",
     "text": [
      "100%|██████████████████████████████████████████████████████████████████████████████████| 50/50 [07:55<00:00,  5.76s/it]\n",
      " 52%|███████████████████████████████████████▋                                     | 16/31 [3:57:37<3:41:14, 884.94s/it]"
     ]
    },
    {
     "name": "stdout",
     "output_type": "stream",
     "text": [
      "0.8 out\n"
     ]
    },
    {
     "name": "stderr",
     "output_type": "stream",
     "text": [
      "100%|██████████████████████████████████████████████████████████████████████████████████| 50/50 [07:32<00:00,  4.11s/it]\n"
     ]
    },
    {
     "name": "stdout",
     "output_type": "stream",
     "text": [
      "0.8 red\n"
     ]
    },
    {
     "name": "stderr",
     "output_type": "stream",
     "text": [
      "100%|██████████████████████████████████████████████████████████████████████████████████| 50/50 [10:45<00:00,  6.55s/it]\n",
      " 55%|██████████████████████████████████████████▏                                  | 17/31 [4:15:56<3:41:29, 949.24s/it]"
     ]
    },
    {
     "name": "stdout",
     "output_type": "stream",
     "text": [
      "0.85 out\n"
     ]
    },
    {
     "name": "stderr",
     "output_type": "stream",
     "text": [
      "100%|██████████████████████████████████████████████████████████████████████████████████| 50/50 [05:11<00:00,  2.56s/it]\n"
     ]
    },
    {
     "name": "stdout",
     "output_type": "stream",
     "text": [
      "0.85 red\n"
     ]
    },
    {
     "name": "stderr",
     "output_type": "stream",
     "text": [
      "100%|██████████████████████████████████████████████████████████████████████████████████| 50/50 [08:10<00:00,  5.52s/it]\n",
      " 58%|████████████████████████████████████████████▋                                | 18/31 [4:29:20<3:16:13, 905.66s/it]"
     ]
    },
    {
     "name": "stdout",
     "output_type": "stream",
     "text": [
      "0.9 out\n"
     ]
    },
    {
     "name": "stderr",
     "output_type": "stream",
     "text": [
      "100%|██████████████████████████████████████████████████████████████████████████████████| 50/50 [07:17<00:00,  3.93s/it]\n"
     ]
    },
    {
     "name": "stdout",
     "output_type": "stream",
     "text": [
      "0.9 red\n"
     ]
    },
    {
     "name": "stderr",
     "output_type": "stream",
     "text": [
      "100%|██████████████████████████████████████████████████████████████████████████████████| 50/50 [14:13<00:00,  8.81s/it]\n",
      " 61%|██████████████████████████████████████████████▌                             | 19/31 [4:50:53<3:24:22, 1021.87s/it]"
     ]
    },
    {
     "name": "stdout",
     "output_type": "stream",
     "text": [
      "1 out\n"
     ]
    },
    {
     "name": "stderr",
     "output_type": "stream",
     "text": [
      "100%|██████████████████████████████████████████████████████████████████████████████████| 50/50 [13:30<00:00,  6.35s/it]\n"
     ]
    },
    {
     "name": "stdout",
     "output_type": "stream",
     "text": [
      "1 red\n"
     ]
    },
    {
     "name": "stderr",
     "output_type": "stream",
     "text": [
      "100%|██████████████████████████████████████████████████████████████████████████████████| 50/50 [10:25<00:00,  6.61s/it]\n",
      " 65%|█████████████████████████████████████████████████                           | 20/31 [5:14:51<3:30:11, 1146.50s/it]"
     ]
    },
    {
     "name": "stdout",
     "output_type": "stream",
     "text": [
      "1.25 out\n"
     ]
    },
    {
     "name": "stderr",
     "output_type": "stream",
     "text": [
      "100%|██████████████████████████████████████████████████████████████████████████████████| 50/50 [06:13<00:00,  2.42s/it]\n"
     ]
    },
    {
     "name": "stdout",
     "output_type": "stream",
     "text": [
      "1.25 red\n"
     ]
    },
    {
     "name": "stderr",
     "output_type": "stream",
     "text": [
      "100%|██████████████████████████████████████████████████████████████████████████████████| 50/50 [07:55<00:00,  5.34s/it]\n",
      " 68%|███████████████████████████████████████████████████▍                        | 21/31 [5:29:01<2:56:16, 1057.67s/it]"
     ]
    },
    {
     "name": "stdout",
     "output_type": "stream",
     "text": [
      "1.5 out\n"
     ]
    },
    {
     "name": "stderr",
     "output_type": "stream",
     "text": [
      "100%|██████████████████████████████████████████████████████████████████████████████████| 50/50 [06:59<00:00,  4.68s/it]\n"
     ]
    },
    {
     "name": "stdout",
     "output_type": "stream",
     "text": [
      "1.5 red\n"
     ]
    },
    {
     "name": "stderr",
     "output_type": "stream",
     "text": [
      "100%|██████████████████████████████████████████████████████████████████████████████████| 50/50 [09:00<00:00,  3.28s/it]\n",
      " 71%|█████████████████████████████████████████████████████▉                      | 22/31 [5:45:02<2:34:18, 1028.67s/it]"
     ]
    },
    {
     "name": "stdout",
     "output_type": "stream",
     "text": [
      "1.75 out\n"
     ]
    },
    {
     "name": "stderr",
     "output_type": "stream",
     "text": [
      "100%|██████████████████████████████████████████████████████████████████████████████████| 50/50 [04:17<00:00,  2.38s/it]\n"
     ]
    },
    {
     "name": "stdout",
     "output_type": "stream",
     "text": [
      "1.75 red\n"
     ]
    },
    {
     "name": "stderr",
     "output_type": "stream",
     "text": [
      "100%|██████████████████████████████████████████████████████████████████████████████████| 50/50 [06:40<00:00,  5.83s/it]\n",
      " 74%|█████████████████████████████████████████████████████████▏                   | 23/31 [5:56:01<2:02:22, 917.80s/it]"
     ]
    },
    {
     "name": "stdout",
     "output_type": "stream",
     "text": [
      "2 out\n"
     ]
    },
    {
     "name": "stderr",
     "output_type": "stream",
     "text": [
      "100%|██████████████████████████████████████████████████████████████████████████████████| 50/50 [06:34<00:00,  3.86s/it]\n"
     ]
    },
    {
     "name": "stdout",
     "output_type": "stream",
     "text": [
      "2 red\n"
     ]
    },
    {
     "name": "stderr",
     "output_type": "stream",
     "text": [
      "100%|██████████████████████████████████████████████████████████████████████████████████| 50/50 [07:31<00:00,  3.66s/it]\n",
      " 77%|███████████████████████████████████████████████████████████▌                 | 24/31 [6:10:08<1:44:36, 896.65s/it]"
     ]
    },
    {
     "name": "stdout",
     "output_type": "stream",
     "text": [
      "2.5 out\n"
     ]
    },
    {
     "name": "stderr",
     "output_type": "stream",
     "text": [
      "100%|██████████████████████████████████████████████████████████████████████████████████| 50/50 [06:15<00:00,  4.04s/it]\n"
     ]
    },
    {
     "name": "stdout",
     "output_type": "stream",
     "text": [
      "2.5 red\n"
     ]
    },
    {
     "name": "stderr",
     "output_type": "stream",
     "text": [
      "100%|██████████████████████████████████████████████████████████████████████████████████| 50/50 [10:00<00:00,  3.79s/it]\n",
      " 81%|██████████████████████████████████████████████████████████████               | 25/31 [6:26:26<1:32:05, 920.88s/it]"
     ]
    },
    {
     "name": "stdout",
     "output_type": "stream",
     "text": [
      "3 out\n"
     ]
    },
    {
     "name": "stderr",
     "output_type": "stream",
     "text": [
      "100%|██████████████████████████████████████████████████████████████████████████████████| 50/50 [03:50<00:00,  2.43s/it]\n"
     ]
    },
    {
     "name": "stdout",
     "output_type": "stream",
     "text": [
      "3 red\n"
     ]
    },
    {
     "name": "stderr",
     "output_type": "stream",
     "text": [
      "100%|██████████████████████████████████████████████████████████████████████████████████| 50/50 [05:54<00:00,  3.32s/it]\n",
      " 84%|████████████████████████████████████████████████████████████████▌            | 26/31 [6:36:12<1:08:22, 820.46s/it]"
     ]
    },
    {
     "name": "stdout",
     "output_type": "stream",
     "text": [
      "3.5 out\n"
     ]
    },
    {
     "name": "stderr",
     "output_type": "stream",
     "text": [
      "100%|██████████████████████████████████████████████████████████████████████████████████| 50/50 [03:41<00:00,  2.93s/it]\n"
     ]
    },
    {
     "name": "stdout",
     "output_type": "stream",
     "text": [
      "3.5 red\n"
     ]
    },
    {
     "name": "stderr",
     "output_type": "stream",
     "text": [
      "100%|██████████████████████████████████████████████████████████████████████████████████| 50/50 [09:15<00:00,  5.06s/it]\n",
      " 87%|████████████████████████████████████████████████████████████████████▊          | 27/31 [6:49:10<53:51, 807.80s/it]"
     ]
    },
    {
     "name": "stdout",
     "output_type": "stream",
     "text": [
      "4 out\n"
     ]
    },
    {
     "name": "stderr",
     "output_type": "stream",
     "text": [
      "100%|██████████████████████████████████████████████████████████████████████████████████| 50/50 [04:29<00:00,  2.36s/it]\n"
     ]
    },
    {
     "name": "stdout",
     "output_type": "stream",
     "text": [
      "4 red\n"
     ]
    },
    {
     "name": "stderr",
     "output_type": "stream",
     "text": [
      "100%|██████████████████████████████████████████████████████████████████████████████████| 50/50 [08:02<00:00,  5.22s/it]\n",
      " 90%|███████████████████████████████████████████████████████████████████████▎       | 28/31 [7:01:44<39:34, 791.55s/it]"
     ]
    },
    {
     "name": "stdout",
     "output_type": "stream",
     "text": [
      "5 out\n"
     ]
    },
    {
     "name": "stderr",
     "output_type": "stream",
     "text": [
      "100%|██████████████████████████████████████████████████████████████████████████████████| 50/50 [05:05<00:00,  2.30s/it]\n"
     ]
    },
    {
     "name": "stdout",
     "output_type": "stream",
     "text": [
      "5 red\n"
     ]
    },
    {
     "name": "stderr",
     "output_type": "stream",
     "text": [
      "100%|██████████████████████████████████████████████████████████████████████████████████| 50/50 [06:46<00:00,  5.29s/it]\n",
      " 94%|█████████████████████████████████████████████████████████████████████████▉     | 29/31 [7:13:38<25:36, 768.28s/it]"
     ]
    },
    {
     "name": "stdout",
     "output_type": "stream",
     "text": [
      "8 out\n"
     ]
    },
    {
     "name": "stderr",
     "output_type": "stream",
     "text": [
      "100%|██████████████████████████████████████████████████████████████████████████████████| 50/50 [05:56<00:00,  3.70s/it]\n"
     ]
    },
    {
     "name": "stdout",
     "output_type": "stream",
     "text": [
      "8 red\n"
     ]
    },
    {
     "name": "stderr",
     "output_type": "stream",
     "text": [
      "100%|██████████████████████████████████████████████████████████████████████████████████| 50/50 [05:31<00:00,  3.03s/it]\n",
      " 97%|████████████████████████████████████████████████████████████████████████████▍  | 30/31 [7:25:07<12:24, 744.59s/it]"
     ]
    },
    {
     "name": "stdout",
     "output_type": "stream",
     "text": [
      "10 out\n"
     ]
    },
    {
     "name": "stderr",
     "output_type": "stream",
     "text": [
      "100%|██████████████████████████████████████████████████████████████████████████████████| 50/50 [05:35<00:00,  3.67s/it]\n"
     ]
    },
    {
     "name": "stdout",
     "output_type": "stream",
     "text": [
      "10 red\n"
     ]
    },
    {
     "name": "stderr",
     "output_type": "stream",
     "text": [
      "100%|██████████████████████████████████████████████████████████████████████████████████| 50/50 [07:56<00:00,  4.86s/it]\n",
      "100%|███████████████████████████████████████████████████████████████████████████████| 31/31 [7:38:41<00:00, 765.37s/it]\n"
     ]
    }
   ],
   "source": [
    "#Karate\n",
    "Simulator = ABM_Karate\n",
    "Results = ResultsKarate \n",
    "name = \"ResultsKarate\" \n",
    "save = True\n",
    "run(Simulator,Results,name,save)"
   ]
  }
 ],
 "metadata": {
  "kernelspec": {
   "display_name": "Python 3",
   "language": "python",
   "name": "python3"
  },
  "language_info": {
   "codemirror_mode": {
    "name": "ipython",
    "version": 3
   },
   "file_extension": ".py",
   "mimetype": "text/x-python",
   "name": "python",
   "nbconvert_exporter": "python",
   "pygments_lexer": "ipython3",
   "version": "3.7.3"
  },
  "toc": {
   "base_numbering": 1,
   "nav_menu": {},
   "number_sections": true,
   "sideBar": true,
   "skip_h1_title": false,
   "title_cell": "Table of Contents",
   "title_sidebar": "Contents",
   "toc_cell": false,
   "toc_position": {
    "height": "calc(100% - 180px)",
    "left": "10px",
    "top": "150px",
    "width": "459.261px"
   },
   "toc_section_display": true,
   "toc_window_display": false
  }
 },
 "nbformat": 4,
 "nbformat_minor": 2
}
