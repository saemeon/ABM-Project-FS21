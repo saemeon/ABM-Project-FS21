{
 "cells": [
  {
   "cell_type": "code",
   "execution_count": 1,
   "metadata": {
    "ExecuteTime": {
     "end_time": "2021-06-17T14:47:52.364993Z",
     "start_time": "2021-06-17T14:47:40.819605Z"
    }
   },
   "outputs": [],
   "source": [
    "from scipy.stats import norm\n",
    "import matplotlib.pyplot as plt\n",
    "import numpy as np\n",
    "import networkx as nx\n",
    "from tqdm import tqdm\n",
    "from ipywidgets import *\n",
    "import pickle\n",
    "from Classes import *\n",
    "from Functions import *\n",
    "\n",
    "\n",
    "def save_obj(obj, name ):\n",
    "    with open('obj/'+ name + '.pkl', 'wb') as f:\n",
    "        pickle.dump(obj, f, pickle.HIGHEST_PROTOCOL)   \n",
    "def load_obj(name):\n",
    "    with open('obj/' + name + '.pkl', 'rb') as f:\n",
    "        return pickle.load(f)"
   ]
  },
  {
   "cell_type": "code",
   "execution_count": 5,
   "metadata": {
    "ExecuteTime": {
     "end_time": "2021-06-17T14:48:12.198047Z",
     "start_time": "2021-06-17T14:48:12.191594Z"
    }
   },
   "outputs": [],
   "source": [
    "n = 50\n",
    "m = 1\n",
    "s = 1\n",
    "M  = np.array(n*[np.linspace(0 ,  m, n)])\n",
    "S = np.array(n*[np.linspace(s,0.001, n)]).T"
   ]
  },
  {
   "cell_type": "markdown",
   "metadata": {},
   "source": [
    "# Numerical"
   ]
  },
  {
   "cell_type": "code",
   "execution_count": 3,
   "metadata": {
    "ExecuteTime": {
     "end_time": "2021-06-17T14:48:05.566028Z",
     "start_time": "2021-06-17T14:48:05.446992Z"
    }
   },
   "outputs": [],
   "source": [
    "ResultsSim = load_obj(\"ResultsSim1\")"
   ]
  },
  {
   "cell_type": "code",
   "execution_count": 4,
   "metadata": {
    "ExecuteTime": {
     "end_time": "2021-06-17T14:48:10.237356Z",
     "start_time": "2021-06-17T14:48:10.232894Z"
    }
   },
   "outputs": [],
   "source": [
    "shifts = [0.5,0.55,0.6,0.65,0.7,0.75,0.8,0.85,0.9]"
   ]
  },
  {
   "cell_type": "code",
   "execution_count": null,
   "metadata": {
    "ExecuteTime": {
     "start_time": "2021-06-17T14:48:32.582Z"
    },
    "scrolled": true
   },
   "outputs": [
    {
     "name": "stderr",
     "output_type": "stream",
     "text": [
      "\r",
      "  0%|                                                                                            | 0/9 [00:00<?, ?it/s]"
     ]
    },
    {
     "name": "stdout",
     "output_type": "stream",
     "text": [
      "0.5 out\n",
      "0.5 red\n",
      "0.55 out\n",
      "0.55 red\n",
      "0.6 out\n",
      "0.6 red\n",
      "0.65 out\n"
     ]
    },
    {
     "name": "stderr",
     "output_type": "stream",
     "text": [
      "\n",
      "  0%|                                                                                           | 0/50 [00:00<?, ?it/s]C:\\ProgramData\\Anaconda3\\lib\\site-packages\\ipykernel_launcher.py:20: VisibleDeprecationWarning: Creating an ndarray from ragged nested sequences (which is a list-or-tuple of lists-or-tuples-or ndarrays with different lengths or shapes) is deprecated. If you meant to do this, you must specify 'dtype=object' when creating the ndarray\n",
      "\n",
      "  2%|█▋                                                                                 | 1/50 [00:32<26:26, 32.37s/it]\n",
      "  4%|███▎                                                                               | 2/50 [01:04<25:43, 32.17s/it]\n",
      "  6%|████▉                                                                              | 3/50 [01:46<27:42, 35.38s/it]\n",
      "  8%|██████▋                                                                            | 4/50 [02:43<31:59, 41.74s/it]"
     ]
    }
   ],
   "source": [
    "#Simulation Mean field\n",
    "for Mshift in tqdm(shifts): \n",
    "    try:\n",
    "        ResultsSim[Mshift]\n",
    "    except:\n",
    "        ResultsSim[Mshift]={}\n",
    "    \n",
    "    for typ in [\"out\",\"red\"]:\n",
    "        print(Mshift,typ)\n",
    "        def ABM_net(par):\n",
    "            abm = ABM_MF(50000, par, phi2 = typ)\n",
    "            abm.step(50)\n",
    "            return abm.X\n",
    "        try:\n",
    "            ResultsSim[Mshift][typ]\n",
    "        except:\n",
    "            M0 = M.copy()+Mshift\n",
    "            S0 = S.copy()\n",
    "\n",
    "            results =np.array([np.array(list(map(ABM_net,par))) for par in tqdm(np.dstack((M,S,M0,S0)), leave = False)])\n",
    "            ResultsSim[Mshift][typ]=results\n",
    "            save_obj(ResultsSim,\"ResultsSim1\")"
   ]
  }
 ],
 "metadata": {
  "kernelspec": {
   "display_name": "Python 3",
   "language": "python",
   "name": "python3"
  },
  "language_info": {
   "codemirror_mode": {
    "name": "ipython",
    "version": 3
   },
   "file_extension": ".py",
   "mimetype": "text/x-python",
   "name": "python",
   "nbconvert_exporter": "python",
   "pygments_lexer": "ipython3",
   "version": "3.7.3"
  },
  "toc": {
   "base_numbering": 1,
   "nav_menu": {},
   "number_sections": true,
   "sideBar": true,
   "skip_h1_title": false,
   "title_cell": "Table of Contents",
   "title_sidebar": "Contents",
   "toc_cell": false,
   "toc_position": {
    "height": "calc(100% - 180px)",
    "left": "10px",
    "top": "150px",
    "width": "459.261px"
   },
   "toc_section_display": true,
   "toc_window_display": false
  }
 },
 "nbformat": 4,
 "nbformat_minor": 2
}
