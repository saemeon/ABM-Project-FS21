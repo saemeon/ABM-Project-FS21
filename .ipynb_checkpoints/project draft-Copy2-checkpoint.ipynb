{
 "cells": [
  {
   "cell_type": "code",
   "execution_count": 1,
   "metadata": {
    "ExecuteTime": {
     "end_time": "2021-06-16T19:38:29.108712Z",
     "start_time": "2021-06-16T19:38:25.313818Z"
    }
   },
   "outputs": [],
   "source": [
    "from scipy.stats import norm\n",
    "import matplotlib.pyplot as plt\n",
    "import numpy as np\n",
    "import networkx as nx\n",
    "from tqdm import tqdm\n",
    "from ipywidgets import *\n",
    "import pickle\n",
    "from Classes import *\n",
    "from Functions import *\n",
    "\n",
    "\n",
    "def save_obj(obj, name ):\n",
    "    with open('obj/'+ name + '.pkl', 'wb') as f:\n",
    "        pickle.dump(obj, f, pickle.HIGHEST_PROTOCOL)   \n",
    "def load_obj(name):\n",
    "    with open('obj/' + name + '.pkl', 'rb') as f:\n",
    "        return pickle.load(f)"
   ]
  },
  {
   "cell_type": "code",
   "execution_count": 2,
   "metadata": {
    "ExecuteTime": {
     "end_time": "2021-06-16T19:38:29.172697Z",
     "start_time": "2021-06-16T19:38:29.152362Z"
    }
   },
   "outputs": [],
   "source": [
    "n = 50\n",
    "m = 1\n",
    "s = 1\n",
    "M  = np.array(n*[np.linspace(0 ,  m, n)])\n",
    "S = np.array(n*[np.linspace(s,0.001, n)]).T"
   ]
  },
  {
   "cell_type": "markdown",
   "metadata": {},
   "source": [
    "# Base Case"
   ]
  },
  {
   "cell_type": "code",
   "execution_count": 3,
   "metadata": {
    "ExecuteTime": {
     "end_time": "2021-06-16T19:38:29.477240Z",
     "start_time": "2021-06-16T19:38:29.227753Z"
    },
    "scrolled": false
   },
   "outputs": [],
   "source": [
    "#BaseCase\n",
    "M0 = M.copy()\n",
    "S0 = S.copy()\n",
    "\n",
    "X = norm.cdf(0,M,S)\n",
    "X_ = X.copy()\n",
    "for i in range(100):\n",
    "    X  = norm.cdf(X,M,S)\n",
    "    \n",
    "Xbase = X.copy()\n",
    "Xbasenet = X-X_"
   ]
  },
  {
   "cell_type": "markdown",
   "metadata": {},
   "source": [
    "# Numerical"
   ]
  },
  {
   "cell_type": "code",
   "execution_count": 8,
   "metadata": {
    "ExecuteTime": {
     "end_time": "2021-06-16T19:39:43.606406Z",
     "start_time": "2021-06-16T19:39:43.594503Z"
    }
   },
   "outputs": [],
   "source": [
    "ResultsSim = {}\n",
    "ResultsAna = {}"
   ]
  },
  {
   "cell_type": "code",
   "execution_count": 10,
   "metadata": {
    "ExecuteTime": {
     "end_time": "2021-06-16T11:19:19.519658Z",
     "start_time": "2021-06-16T11:19:17.226146Z"
    }
   },
   "outputs": [],
   "source": [
    "ResultsSim = load_obj(\"ResultsSim1\")\n",
    "ResultsAna = load_obj(\"ResultsAna1\")"
   ]
  },
  {
   "cell_type": "code",
   "execution_count": 5,
   "metadata": {
    "ExecuteTime": {
     "end_time": "2021-06-16T19:39:03.630799Z",
     "start_time": "2021-06-16T19:39:03.619887Z"
    }
   },
   "outputs": [],
   "source": [
    "shifts = [0.5,0.55,0.6,0.65,0.7,0.75,0.8,0.85,0.9,1,1.25,1.5,1.75,2,2.5,3,3.5,4,5,8]\n",
    "shifts = [0.5,0.55,0.6,0.65,0.7,0.75,0.8,0.85,0.9]"
   ]
  },
  {
   "cell_type": "code",
   "execution_count": 6,
   "metadata": {
    "ExecuteTime": {
     "end_time": "2021-06-16T19:39:13.039916Z",
     "start_time": "2021-06-16T19:39:09.454332Z"
    },
    "scrolled": true
   },
   "outputs": [
    {
     "name": "stderr",
     "output_type": "stream",
     "text": [
      "  0%|                                                                                            | 0/9 [00:00<?, ?it/s]C:\\ProgramData\\Anaconda3\\lib\\site-packages\\ipykernel_launcher.py:30: RuntimeWarning: divide by zero encountered in true_divide\n",
      "100%|████████████████████████████████████████████████████████████████████████████████████| 9/9 [00:03<00:00,  2.61it/s]\n"
     ]
    }
   ],
   "source": [
    "#Analytical Mean Field\n",
    "for Mshift in tqdm(shifts): \n",
    "    try:\n",
    "        ResultsAna[Mshift]\n",
    "    except:\n",
    "        ResultsAna[Mshift]={}\n",
    "        \n",
    "    M0 = M.copy() + Mshift\n",
    "    S0 = S.copy()\n",
    "    \n",
    "    #con\n",
    "    results = []\n",
    "    X = norm.cdf(0,M,S)\n",
    "    X_ = X.copy()\n",
    "    for i in range(50):\n",
    "        results.append(X)\n",
    "        X_1 = X.copy()\n",
    "        X  = norm.cdf(X,M,S) - norm.cdf((1-X),M0,S0)*X\n",
    "        if np.array_equal(X_1, X):\n",
    "            break\n",
    "    ResultsAna[Mshift][\"out\"]=np.array(results)\n",
    "    \n",
    "    #red\n",
    "    X_list = []\n",
    "    X = norm.cdf(0,M,S)\n",
    "    X_ = X.copy()\n",
    "    for i in range(100):\n",
    "        X_list.append(X)\n",
    "        X_1 = X.copy()\n",
    "        X  = norm.cdf(X,M,S) - norm.cdf((1-X)/X,M0,S0)*X\n",
    "        if np.array_equal(X_1, X):\n",
    "            break\n",
    "    ResultsAna[Mshift][\"red\"]=np.array(X_list)"
   ]
  },
  {
   "cell_type": "code",
   "execution_count": 10,
   "metadata": {
    "ExecuteTime": {
     "end_time": "2021-06-16T19:33:30.223168Z",
     "start_time": "2021-06-16T19:29:56.150120Z"
    },
    "scrolled": true
   },
   "outputs": [
    {
     "name": "stderr",
     "output_type": "stream",
     "text": [
      "\r",
      "  0%|                                                                                            | 0/4 [00:00<?, ?it/s]"
     ]
    },
    {
     "name": "stdout",
     "output_type": "stream",
     "text": [
      "0 out\n"
     ]
    },
    {
     "name": "stderr",
     "output_type": "stream",
     "text": [
      "\n",
      "  0%|                                                                                            | 0/5 [00:00<?, ?it/s]\n",
      " 20%|████████████████▊                                                                   | 1/5 [00:01<00:06,  1.73s/it]\n",
      " 40%|█████████████████████████████████▌                                                  | 2/5 [00:04<00:05,  1.99s/it]\n",
      " 60%|██████████████████████████████████████████████████▍                                 | 3/5 [00:06<00:03,  1.94s/it]\n",
      " 80%|███████████████████████████████████████████████████████████████████▏                | 4/5 [00:07<00:01,  1.85s/it]\n",
      "100%|████████████████████████████████████████████████████████████████████████████████████| 5/5 [00:08<00:00,  1.41s/it]\n",
      "                                                                                                                       "
     ]
    },
    {
     "name": "stdout",
     "output_type": "stream",
     "text": [
      "0 red\n"
     ]
    },
    {
     "name": "stderr",
     "output_type": "stream",
     "text": [
      "\n",
      "  0%|                                                                                            | 0/5 [00:00<?, ?it/s]\n",
      " 20%|████████████████▊                                                                   | 1/5 [00:08<00:34,  8.61s/it]\n",
      " 40%|█████████████████████████████████▌                                                  | 2/5 [00:15<00:24,  8.24s/it]\n",
      " 60%|██████████████████████████████████████████████████▍                                 | 3/5 [00:21<00:14,  7.31s/it]C:\\Users\\snied\\OneDrive\\Dokumente\\ETH\\Agent-Based Modelling of Social Systems\\Classes.py:132: RuntimeWarning: divide by zero encountered in long_scalars\n",
      "  return np.array(self.N*[(self.N-sum(self.s))/ np.sum(self.s)])\n",
      "\n",
      " 80%|███████████████████████████████████████████████████████████████████▏                | 4/5 [00:29<00:07,  7.61s/it]\n",
      "100%|████████████████████████████████████████████████████████████████████████████████████| 5/5 [00:31<00:00,  5.99s/it]\n",
      " 25%|█████████████████████                                                               | 1/4 [00:40<02:00, 40.10s/it]"
     ]
    },
    {
     "name": "stdout",
     "output_type": "stream",
     "text": [
      "0.15 out\n"
     ]
    },
    {
     "name": "stderr",
     "output_type": "stream",
     "text": [
      "\n",
      "  0%|                                                                                            | 0/5 [00:00<?, ?it/s]\n",
      " 20%|████████████████▊                                                                   | 1/5 [00:02<00:10,  2.66s/it]\n",
      " 40%|█████████████████████████████████▌                                                  | 2/5 [00:06<00:08,  2.92s/it]\n",
      " 60%|██████████████████████████████████████████████████▍                                 | 3/5 [00:10<00:06,  3.21s/it]\n",
      " 80%|███████████████████████████████████████████████████████████████████▏                | 4/5 [00:12<00:02,  2.85s/it]\n",
      "100%|████████████████████████████████████████████████████████████████████████████████████| 5/5 [00:12<00:00,  2.10s/it]\n",
      "                                                                                                                       "
     ]
    },
    {
     "name": "stdout",
     "output_type": "stream",
     "text": [
      "0.15 red\n"
     ]
    },
    {
     "name": "stderr",
     "output_type": "stream",
     "text": [
      "\n",
      "  0%|                                                                                            | 0/5 [00:00<?, ?it/s]\n",
      " 20%|████████████████▊                                                                   | 1/5 [00:16<01:06, 16.70s/it]\n",
      " 40%|█████████████████████████████████▌                                                  | 2/5 [00:27<00:45, 15.07s/it]\n",
      " 60%|██████████████████████████████████████████████████▍                                 | 3/5 [00:37<00:27, 13.53s/it]\n",
      " 80%|███████████████████████████████████████████████████████████████████▏                | 4/5 [00:47<00:12, 12.20s/it]\n",
      "100%|████████████████████████████████████████████████████████████████████████████████████| 5/5 [00:49<00:00,  9.16s/it]\n",
      " 50%|██████████████████████████████████████████                                          | 2/4 [01:42<01:33, 46.67s/it]"
     ]
    },
    {
     "name": "stdout",
     "output_type": "stream",
     "text": [
      "0.35 out\n"
     ]
    },
    {
     "name": "stderr",
     "output_type": "stream",
     "text": [
      "\n",
      "  0%|                                                                                            | 0/5 [00:00<?, ?it/s]\n",
      " 20%|████████████████▊                                                                   | 1/5 [00:03<00:13,  3.39s/it]\n",
      " 40%|█████████████████████████████████▌                                                  | 2/5 [00:08<00:11,  3.77s/it]\n",
      " 60%|██████████████████████████████████████████████████▍                                 | 3/5 [00:12<00:07,  3.89s/it]\n",
      " 80%|███████████████████████████████████████████████████████████████████▏                | 4/5 [00:13<00:03,  3.25s/it]\n",
      "100%|████████████████████████████████████████████████████████████████████████████████████| 5/5 [00:14<00:00,  2.38s/it]\n",
      "                                                                                                                       "
     ]
    },
    {
     "name": "stdout",
     "output_type": "stream",
     "text": [
      "0.35 red\n"
     ]
    },
    {
     "name": "stderr",
     "output_type": "stream",
     "text": [
      "\n",
      "  0%|                                                                                            | 0/5 [00:00<?, ?it/s]\n",
      " 20%|████████████████▊                                                                   | 1/5 [00:13<00:52, 13.05s/it]\n",
      " 40%|█████████████████████████████████▌                                                  | 2/5 [00:20<00:34, 11.46s/it]\n",
      " 60%|██████████████████████████████████████████████████▍                                 | 3/5 [00:28<00:20, 10.26s/it]\n",
      " 80%|███████████████████████████████████████████████████████████████████▏                | 4/5 [00:37<00:09,  9.93s/it]\n",
      "100%|████████████████████████████████████████████████████████████████████████████████████| 5/5 [00:39<00:00,  7.55s/it]\n",
      " 75%|███████████████████████████████████████████████████████████████                     | 3/4 [02:36<00:49, 49.01s/it]"
     ]
    },
    {
     "name": "stdout",
     "output_type": "stream",
     "text": [
      "0.45 out\n"
     ]
    },
    {
     "name": "stderr",
     "output_type": "stream",
     "text": [
      "\n",
      "  0%|                                                                                            | 0/5 [00:00<?, ?it/s]\n",
      " 20%|████████████████▊                                                                   | 1/5 [00:03<00:15,  3.80s/it]\n",
      " 40%|█████████████████████████████████▌                                                  | 2/5 [00:08<00:12,  4.10s/it]\n",
      " 60%|██████████████████████████████████████████████████▍                                 | 3/5 [00:12<00:08,  4.18s/it]\n",
      " 80%|███████████████████████████████████████████████████████████████████▏                | 4/5 [00:14<00:03,  3.29s/it]\n",
      "100%|████████████████████████████████████████████████████████████████████████████████████| 5/5 [00:14<00:00,  2.41s/it]\n",
      "                                                                                                                       "
     ]
    },
    {
     "name": "stdout",
     "output_type": "stream",
     "text": [
      "0.45 red\n"
     ]
    },
    {
     "name": "stderr",
     "output_type": "stream",
     "text": [
      "\n",
      "  0%|                                                                                            | 0/5 [00:00<?, ?it/s]\n",
      " 20%|████████████████▊                                                                   | 1/5 [00:13<00:54, 13.71s/it]\n",
      " 40%|█████████████████████████████████▌                                                  | 2/5 [00:22<00:36, 12.30s/it]\n",
      " 60%|██████████████████████████████████████████████████▍                                 | 3/5 [00:31<00:22, 11.36s/it]\n",
      " 80%|███████████████████████████████████████████████████████████████████▏                | 4/5 [00:40<00:10, 10.40s/it]\n",
      "100%|████████████████████████████████████████████████████████████████████████████████████| 5/5 [00:41<00:00,  7.86s/it]\n",
      "100%|████████████████████████████████████████████████████████████████████████████████████| 4/4 [03:34<00:00, 51.55s/it]\n"
     ]
    }
   ],
   "source": [
    "#Simulation Mean field\n",
    "for Mshift in tqdm(shifts): \n",
    "    try:\n",
    "        ResultsSim[Mshift]\n",
    "    except:\n",
    "        ResultsSim[Mshift]={}\n",
    "    \n",
    "    for typ in [\"out\",\"red\"]:\n",
    "        print(Mshift,typ)\n",
    "        def ABM_net(par):\n",
    "            abm = ABM_MF(50000, par, phi2 = typ)\n",
    "            abm.step(50)\n",
    "            return abm\n",
    "        try:\n",
    "            ResultsSim[Mshift][typ]\n",
    "        except:\n",
    "            M0 = M.copy()+Mshift\n",
    "            S0 = S.copy()\n",
    "\n",
    "            results =np.array([np.array(list(map(ABM_net,par))) for par in tqdm(np.dstack((M,S,M0,S0)), leave = False)])\n",
    "            ResultsSim[Mshift][typ]=results\n",
    "            save_obj(ResultsSim,\"ResultsSim1\")"
   ]
  }
 ],
 "metadata": {
  "kernelspec": {
   "display_name": "Python 3",
   "language": "python",
   "name": "python3"
  },
  "language_info": {
   "codemirror_mode": {
    "name": "ipython",
    "version": 3
   },
   "file_extension": ".py",
   "mimetype": "text/x-python",
   "name": "python",
   "nbconvert_exporter": "python",
   "pygments_lexer": "ipython3",
   "version": "3.7.3"
  },
  "toc": {
   "base_numbering": 1,
   "nav_menu": {},
   "number_sections": true,
   "sideBar": true,
   "skip_h1_title": false,
   "title_cell": "Table of Contents",
   "title_sidebar": "Contents",
   "toc_cell": false,
   "toc_position": {
    "height": "calc(100% - 180px)",
    "left": "10px",
    "top": "150px",
    "width": "459.261px"
   },
   "toc_section_display": true,
   "toc_window_display": false
  }
 },
 "nbformat": 4,
 "nbformat_minor": 2
}
